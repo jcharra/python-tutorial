{
 "cells": [
  {
   "cell_type": "markdown",
   "id": "0",
   "metadata": {},
   "source": [
    "# Python-Tutorial Teil 3\n",
    "\n",
    "In diesem Teil geht es weiter mit der `for`-Schleife, die etwas anders funktioniert als die `while`-Schleife aus dem letzten Kapitel.\n",
    "\n",
    "Damit wir etwas \"Substanz\" haben, um solche Schleifen anzuwenden, beschäftigen wir uns zunächst mit einer neuen Funktion, mit der man beliebig große Zahlenreihen erzeugen kann.\n",
    "\n",
    "## Abschnitt 1: Die Funktion `range`\n",
    "\n",
    "Mit `range` kann man sich von Python eine Folge von `int`s erzeugen lassen. Zum Beispiel so:"
   ]
  },
  {
   "cell_type": "code",
   "execution_count": null,
   "id": "1",
   "metadata": {},
   "outputs": [],
   "source": [
    "print(range(10))"
   ]
  },
  {
   "cell_type": "markdown",
   "id": "2",
   "metadata": {},
   "source": [
    "Hm, nicht sehr aussagekräftig. Man könnte denken, das sei jetzt eine **Liste** mit Zahlen, das ist aber **nicht** so!\n",
    "\n",
    "Was wir jetzt erzeugt haben ist eine Art \"Zahlen-Generator\", der uns auf Nachfrage die Zahlen von 0 bis ... Achtung ... **9** ausgibt.\n",
    "\n",
    "Wie kann man das verifizieren? Dazu greifen wir ein bisschen vor und verwenden die `list`-Funktion, die ein Objekt in eine Liste konvertiert:"
   ]
  },
  {
   "cell_type": "code",
   "execution_count": null,
   "id": "3",
   "metadata": {},
   "outputs": [],
   "source": [
    "list(range(10))"
   ]
  },
  {
   "cell_type": "markdown",
   "id": "4",
   "metadata": {},
   "source": [
    "Jetzt haben wir unsere Zahlen gut lesbar als Liste. Listen haben in Python **eckige Klammern** `[ ... ]`, aber dazu in einem späteren Kapitel mehr.\n",
    "\n",
    "Zurück zur Funktion `range`. Am besten versteht man sie, wenn man sich ein paar Beispiele anschaut:"
   ]
  },
  {
   "cell_type": "code",
   "execution_count": null,
   "id": "5",
   "metadata": {},
   "outputs": [],
   "source": [
    "list(range(5, 20))"
   ]
  },
  {
   "cell_type": "markdown",
   "id": "6",
   "metadata": {},
   "source": [
    "Kannst Du erkennen, warum aus der Eingabe `5, 20` diese Zahlen generiert wurden?\n",
    "\n",
    "Das erste Argument gibt hier die **Startzahl** an. Diese ist in der Liste mit **enthalten**. Das zweite Argument ist die **Endzahl**, also die obere Grenze. Diese ist **nicht enthalten**."
   ]
  },
  {
   "cell_type": "markdown",
   "id": "7",
   "metadata": {},
   "source": [
    "#### Die Anzahl der Argumente ist entscheidend\n",
    "\n",
    "Jetzt denkst Du vielleicht \"Hä? Aber weiter oben haben wir `range(10)` aufgerufen und da war die erste Zahl die obere Grenze! 🤷🏻‍♀️\".\n",
    "\n",
    "Das ist richtig. Man kann `range` nämlich auf insgesamt sogar drei verschiedene Arten aufrufen, die je nach Argumentzahl unterschiedliche Wirkung haben:"
   ]
  },
  {
   "cell_type": "code",
   "execution_count": null,
   "id": "8",
   "metadata": {},
   "outputs": [],
   "source": [
    "# Ein Argument => wird als Obergrenze interpretiert\n",
    "print(list(range(5)))\n",
    "\n",
    "# Zwei Argumente => wird als Unter- und Obergrenze interpretiert\n",
    "print(list(range(20, 30)))\n",
    "\n",
    "# Drei Argumente => wird als Unter- und Obergrenze und Schrittweite interpretiert\n",
    "print(list(range(100, 1000, 50)))"
   ]
  },
  {
   "cell_type": "markdown",
   "id": "9",
   "metadata": {},
   "source": [
    "#### Leere Intervalle\n",
    "\n",
    "Was passiert eigentlich, wenn die Obergrenze kleiner oder gleich der Untergrenze ist?"
   ]
  },
  {
   "cell_type": "code",
   "execution_count": null,
   "id": "10",
   "metadata": {},
   "outputs": [],
   "source": [
    "list(range(20, 19))"
   ]
  },
  {
   "cell_type": "markdown",
   "id": "11",
   "metadata": {},
   "source": [
    "Das ergibt eine **leere Liste**. \n",
    "\n",
    "Das gleiche passiert, wenn die beiden Grenzen **gleich** sind. Hier gibt es einen Konflikt zwischen der Regel, dass die Startzahl enthalten sein muss und die Endzahl nicht. Die zweite Regel \"gewinnt\": "
   ]
  },
  {
   "cell_type": "code",
   "execution_count": null,
   "id": "12",
   "metadata": {},
   "outputs": [],
   "source": [
    "list(range(100, 100))"
   ]
  },
  {
   "cell_type": "markdown",
   "id": "13",
   "metadata": {},
   "source": [
    "#### Rückwärts laufen\n",
    "\n",
    "Jetzt wo wir die Schrittweite setzen können, ist es auch möglich, absteigende Zahlenfolgen zu erzeugen:"
   ]
  },
  {
   "cell_type": "code",
   "execution_count": null,
   "id": "14",
   "metadata": {},
   "outputs": [],
   "source": [
    "print(list(range(30, 0, -1)))"
   ]
  },
  {
   "cell_type": "markdown",
   "id": "15",
   "metadata": {},
   "source": [
    "Beachte: Auch hier ist die letzte Zahl (in diesem Fall also die **Untergrenze**) nicht mit enthalten.\n",
    "\n",
    "#### Warum nicht gleich eine Liste erzeugen?\n",
    "\n",
    "Vielleicht wunderst Du Dich, warum es nötig ist, jedesmal `list(range(...))` zu machen. Warum liefert `range` uns nicht direkt eine Liste? 😡\n",
    "\n",
    "Der Grund ist, dass es bei großen Zahlenbereichen unnötig viel Speicher verbrauchen würde, die Liste zu generieren. Dazu ein kleines Beispiel:\n",
    "\n",
    "#### Faulheit kann eine Tugend sein\n",
    "\n",
    "Stell Dir vor, Du möchtest die Zahlen von **1 bis 1 Billion** durchgehen und jede Zahl prüfen, ob sie eine Primzahl ist.\n",
    "\n",
    "Mit `range` ist das kein Problem, denn `range` ist \"faul\": Es wird nur die gerade benötigte Zahl generiert und gespeichert. Beim nächsten Schritt wird sie wieder \"weggeworfen\".\n",
    "\n",
    "Mit `list(range(1000000000000))` würde man Python zwingen, alle Zahlen zu erzeugen und zu speichern. Das ist erstens unnötige Arbeit und könnte zweitens zu massiven Speicherproblemen führen. Probier es lieber nicht aus. 🙉💥"
   ]
  },
  {
   "cell_type": "markdown",
   "id": "16",
   "metadata": {},
   "source": [
    "<div class=\"alert alert-block alert-info\">\n",
    "    \n",
    "### Zusammenfassung Abschnitt 1\n",
    "\n",
    "Was Du gelernt hast ...\n",
    "    \n",
    "- wie man `range` verwendet um Zahlenfolgen zu generieren.\n",
    "- wie man dabei untere und obere Grenzen angibt\n",
    "- wie man die Schrittweite definiert\n",
    "- wie man dabei rückwärts läuft\n",
    "- dass Faulheit beim Programmieren manchmal wertvoll sein kann 😴👍🏻\n",
    "\n",
    "</div>"
   ]
  },
  {
   "cell_type": "markdown",
   "id": "17",
   "metadata": {},
   "source": [
    "## Abschnitt 2: die `for`-Schleife\n",
    "\n",
    "Die `for`-Schleife ist ein unverzichtbarer Teil beim Programmieren, auch wenn man rein theoretisch alles nur mit `while` bauen könnte.\n",
    "\n",
    "Bei der `for`-Schleife geht es immer darum **Daten durchzugehen**. Du hast also - abstrakt gesagt - irgend etwas, das aus mehreren \"Teilen\" besteht, und Du möchtest es \"Teil für Teil\" durchgehen.\n",
    "\n",
    "Das Wort \"Durchgehen\" ist natürlich etwas zu umgangssprachlich. In der Informatik sagt man eher: Man **iteriert** über die Daten. Jeder Durchgang einer `for`-Schleife ist also eine **Iteration**.\n",
    "\n",
    "Ein einfaches Beispiel zum Einstieg:"
   ]
  },
  {
   "cell_type": "code",
   "execution_count": null,
   "id": "18",
   "metadata": {},
   "outputs": [],
   "source": [
    "for zahl in range(10):\n",
    "  print(f\"Die Variable 'zahl' hat jetzt den Wert {zahl}\")"
   ]
  },
  {
   "cell_type": "markdown",
   "id": "19",
   "metadata": {},
   "source": [
    "Beachte hierbei, dass es *nicht* nötig ist, `list(range(10))` zu schreiben, denn die `for`-Schleife holt sich in jeder Iteration die nächste Zahl von `range`.\n",
    "\n",
    "#### Struktur einer `for`-Schleife\n",
    "\n",
    "Jede `for`-Schleife folgt dem Schema\n",
    "\n",
    "```python\n",
    "  for <name> in <iterables Objekt>:\n",
    "      # Dein Code hier, natürlich schön eingerückt\n",
    "```\n",
    "\n",
    "Der Ausdruck \"iterables Objekt\" klingt jetzt erstmal unnötig kompliziert, aber dieses Verständnis muss man in Python entwickeln. Man darf z.B. nicht den Irrglauben entwickeln, dass man nur über Listen iterieren kann.\n",
    "\n",
    "\"Iterable Objekte\", also Objekte, über die man iterieren kann, gibt es in Python nämlich so einige, daher hier ein Beispiel, das Du so vielleicht nicht erwartet hättest:"
   ]
  },
  {
   "cell_type": "code",
   "execution_count": null,
   "id": "20",
   "metadata": {},
   "outputs": [],
   "source": [
    "for zeichen in \"Hallo Python 🐍\":\n",
    "  print(zeichen)"
   ]
  },
  {
   "cell_type": "markdown",
   "id": "21",
   "metadata": {},
   "source": [
    "Man kann also auch über Strings iterieren! 💡 \n",
    "\n",
    "Und wir werden noch einige weitere Objekttypen kennenlernen, durch die man mit `for` durchspazieren kann.\n",
    "\n",
    "#### `for` in Kombination mit `range`\n",
    "\n",
    "Wie schon im obigen Beispiel gezeigt kann man `for` in Kombination mit `range` verwenden. Lass uns einmal alle Zahlen von 1 bis 1000 auf Teilbarkeit durch 2 checken:"
   ]
  },
  {
   "cell_type": "code",
   "execution_count": null,
   "id": "22",
   "metadata": {},
   "outputs": [],
   "source": [
    "for i in range(1001):\n",
    "  print(f\"{i} teilbar durch 2? {i % 2 == 0}\")"
   ]
  },
  {
   "cell_type": "markdown",
   "id": "23",
   "metadata": {},
   "source": [
    "<div class=\"alert alert-block alert-info\">\n",
    "    \n",
    "### Zusammenfassung Abschnitt 2\n",
    "\n",
    "Was Du gelernt hast ...\n",
    "    \n",
    "- wie eine `for`-Schleife aussieht\n",
    "- dass man `for`-Schleifen auf Objekte anwenden kann, die \"iterabel\" sind\n",
    "- dass man `for` gut mit `range` kombinieren kann\n",
    "\n",
    "</div>"
   ]
  }
 ],
 "metadata": {
  "kernelspec": {
   "display_name": ".venv",
   "language": "python",
   "name": "python3"
  },
  "language_info": {
   "codemirror_mode": {
    "name": "ipython",
    "version": 3
   },
   "file_extension": ".py",
   "mimetype": "text/x-python",
   "name": "python",
   "nbconvert_exporter": "python",
   "pygments_lexer": "ipython3",
   "version": "3.13.5"
  }
 },
 "nbformat": 4,
 "nbformat_minor": 5
}
