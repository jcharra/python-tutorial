{
 "cells": [
  {
   "cell_type": "markdown",
   "id": "0",
   "metadata": {},
   "source": [
    "# Python-Tutorial Teil 4\n",
    "\n",
    "In diesem Teil geht es um den Datentyp `list`, also um Listen. \n",
    "\n",
    "Listen sind eine der wichtigsten und am häufigsten verwendeten Datenstrukturen in Python, daher haben sie ihr eigenes Kapitel verdient.\n",
    "\n",
    "## Abschnitt 1: Schreibweise von Listen\n",
    "\n",
    "Listen schreibt man in eckigen Klammern:"
   ]
  },
  {
   "cell_type": "code",
   "execution_count": null,
   "id": "1",
   "metadata": {},
   "outputs": [],
   "source": [
    "meineliste = [1, 5.1, \"Hallo\", print]\n",
    "print(\"Meine Liste:\", meineliste)"
   ]
  },
  {
   "cell_type": "markdown",
   "id": "2",
   "metadata": {},
   "source": [
    "Listen können also unterschiedliche Datentypen enthalten, im obigen Beispiel `int`, `float`, `str` und `builtin_function`\n",
    "\n",
    "Hier sind weitere Beispiele für Listen:"
   ]
  },
  {
   "cell_type": "code",
   "execution_count": null,
   "id": "3",
   "metadata": {},
   "outputs": [],
   "source": [
    "leere_liste = []\n",
    "obstsorten = [\"Apfel\", \"Kirsche\", \"Erdbeeere\", \"Ananas\"]\n",
    "liste_von_listen = [[1, 2, 3], [4, 5, 6], [7, 8, 9]]"
   ]
  },
  {
   "cell_type": "markdown",
   "id": "4",
   "metadata": {},
   "source": [
    "Beachte das letzte Beispiel: Auch Listen können Elemente von Listen sein (Verschachtelung)!\n",
    "\n",
    "### Länge von Listen\n",
    "\n",
    "Um die Länge einer Liste zu berechnen, können wir die bereits bekannte Funktion `len` verwenden:"
   ]
  },
  {
   "cell_type": "code",
   "execution_count": null,
   "id": "5",
   "metadata": {},
   "outputs": [],
   "source": [
    "# Überlege zuerst, was hier jeweils herauskommen wird!\n",
    "print(\"Länge der leeren Liste:\", len(leere_liste))\n",
    "print(\"Anzahl Obstsorten:\", len(obstsorten))\n",
    "print(\"Länge der Liste von Listen:\", len(liste_von_listen))"
   ]
  },
  {
   "cell_type": "markdown",
   "id": "6",
   "metadata": {},
   "source": [
    "### Auf Listenelemente zugreifen: Indizes\n",
    "\n",
    "Wenn Du ein Element einer Liste verwenden möchtest, kannst Du per `Index` (Plural: Indizes) darauf zugreifen. Der Index gibt an, das wievielte Element Du haben möchtest. *Achtung: Man fängt bei 0 an zu zählen!*"
   ]
  },
  {
   "cell_type": "code",
   "execution_count": null,
   "id": "7",
   "metadata": {},
   "outputs": [],
   "source": [
    "print(\"Erste Obstsorte:\", obstsorten[0])\n",
    "print(\"Zweite Obstsorte:\", obstsorten[1])\n",
    "print(\"Dritte Obstsorte:\", obstsorten[2])\n",
    "print(\"Vierte Obstsorte:\", obstsorten[3])"
   ]
  },
  {
   "cell_type": "markdown",
   "id": "8",
   "metadata": {},
   "source": [
    "Wenn Du einen Index angibst, der über die Länge der Liste hinausgeht, entsteht ein `IndexError`:"
   ]
  },
  {
   "cell_type": "code",
   "execution_count": null,
   "id": "9",
   "metadata": {},
   "outputs": [],
   "source": [
    "obstsorten[10] # das klappt nicht ..."
   ]
  },
  {
   "cell_type": "markdown",
   "id": "10",
   "metadata": {},
   "source": [
    "Auch das Schreiben von Listenelementen läuft über die Index-Schreibweise. Du weist einen neuen Wert zu, indem Du angibst, welchen Index Du ändern möchtest:"
   ]
  },
  {
   "cell_type": "code",
   "execution_count": null,
   "id": "11",
   "metadata": {},
   "outputs": [],
   "source": [
    "obstsorten[2] = \"Maracuja\"\n",
    "print(obstsorten)"
   ]
  },
  {
   "cell_type": "markdown",
   "id": "12",
   "metadata": {},
   "source": [
    "### Negative Indizes\n",
    "\n",
    "Mit negativen Indizes kannst Du die Liste von hinten durchgehen. Der Index `-1` liefert das letzte Element, der Index `-2` das vorletzte etc."
   ]
  },
  {
   "cell_type": "code",
   "execution_count": null,
   "id": "13",
   "metadata": {},
   "outputs": [],
   "source": [
    "print(\"Letzte Obstsorte:\", obstsorten[-1])\n",
    "print(\"Vorletzte Obstsorte:\", obstsorten[-2])"
   ]
  },
  {
   "cell_type": "markdown",
   "id": "14",
   "metadata": {},
   "source": [
    "### Listen und for-Schleifen\n",
    "\n",
    "Listen sind *iterable* Objekte (so wie range-Objekte und Strings), das bedeutet man kann sie mit einer `for`-Schleife durchgehen."
   ]
  },
  {
   "cell_type": "code",
   "execution_count": null,
   "id": "15",
   "metadata": {},
   "outputs": [],
   "source": [
    "print(\"Ich mache einen leckeren Obstsalat!\")\n",
    "for obst in obstsorten:\n",
    "  print(f\"Jetzt füge ich {obst} hinzu.\")"
   ]
  },
  {
   "cell_type": "markdown",
   "id": "16",
   "metadata": {},
   "source": [
    "Eine Liste auf diese Weise durchzugehen ist eine extrem geläufige Operation in Python, die Du noch sehr oft brauchen wirst. Schau sie Dir gut an und stelle sicher, dass Du verstehst, wie die Variable `obst` in der obigen Zelle bei jedem Durchlauf einen neuen Wert erhält!\n",
    "\n",
    "### Alternative: for-Schleife mit enumerate\n",
    "\n",
    "Wenn Du beim Durchgehen der Liste wissen möchtest, an welcher Stelle (welchem Index) Du Dich gerade befindest, kannst Du die Funktion `enumerate` verwenden.\n",
    "\n",
    "Das ist insofern etwas komplizierter, als Du jetzt *zwei* Variablen hast, eine für den Index und eine für das Listenelement:"
   ]
  },
  {
   "cell_type": "code",
   "execution_count": null,
   "id": "17",
   "metadata": {},
   "outputs": [],
   "source": [
    "for index, obst in enumerate(obstsorten):\n",
    "  print(f\"Zutat Nr. {index}: {obst}\")"
   ]
  },
  {
   "cell_type": "markdown",
   "id": "18",
   "metadata": {},
   "source": [
    "Beim Zählen möchte man natürlich eher mit der 1 beginnen. Dazu gibt es zwei Möglichkeiten: Entweder Du addierst zu der Variablen `index` jedesmal noch 1 dazu ..."
   ]
  },
  {
   "cell_type": "code",
   "execution_count": null,
   "id": "19",
   "metadata": {},
   "outputs": [],
   "source": [
    "for index, obst in enumerate(obstsorten):\n",
    "  print(f\"Zutat Nr. {index + 1}: {obst}\")"
   ]
  },
  {
   "cell_type": "markdown",
   "id": "20",
   "metadata": {},
   "source": [
    "... oder Du gibst der `enumerate`-Funktion den Startwert 1 mit, dann beginnt der Index in der Schleife bei 1:"
   ]
  },
  {
   "cell_type": "code",
   "execution_count": null,
   "id": "21",
   "metadata": {},
   "outputs": [],
   "source": [
    "for index, obst in enumerate(obstsorten, start=1):\n",
    "  print(f\"Zutat Nr. {index}: {obst}\")"
   ]
  },
  {
   "cell_type": "markdown",
   "id": "22",
   "metadata": {},
   "source": [
    "### Elemente in der Liste suchen und finden\n",
    "\n",
    "Wenn Du den Index eines Elements in einer Liste wissen möchtest, kannst Du die `index`-Methode der Liste verwenden:"
   ]
  },
  {
   "cell_type": "code",
   "execution_count": null,
   "id": "23",
   "metadata": {},
   "outputs": [],
   "source": [
    "print(\"Der Apfel steht an Index\", obstsorten.index(\"Apfel\"))"
   ]
  },
  {
   "cell_type": "markdown",
   "id": "24",
   "metadata": {},
   "source": [
    "Aber Vorsicht: Wenn das gesuchte Element nicht enthalten ist, entsteht ein `ValueError`:"
   ]
  },
  {
   "cell_type": "code",
   "execution_count": null,
   "id": "25",
   "metadata": {},
   "outputs": [],
   "source": [
    "print(\"Die Melone steht an Index\", obstsorten.index(\"Melone\")) # das kracht ..."
   ]
  },
  {
   "cell_type": "markdown",
   "id": "26",
   "metadata": {},
   "source": [
    "<div class=\"alert alert-block alert-info\">\n",
    "    \n",
    "### Zusammenfassung Abschnitt 1\n",
    "\n",
    "Was Du gelernt hast ...\n",
    "    \n",
    "- wie man Listen erzeugt\n",
    "- wie man auf Listenelemente zugreift\n",
    "- wie man über Listen iteriert\n",
    "- wie man Listen verändert\n",
    "\n",
    "</div>"
   ]
  },
  {
   "cell_type": "markdown",
   "id": "27",
   "metadata": {},
   "source": [
    "## Abschnitt 2: Slices\n",
    "\n",
    "Wenn man nicht bloß ein einzelnes Element, sondern einen \"Abschnitt\" einer Liste haben möchte, verwendet man so genannte `Slice`s. Das bedeutet, dass man einen Start- und einen End-Index angibt:"
   ]
  },
  {
   "cell_type": "code",
   "execution_count": null,
   "id": "28",
   "metadata": {},
   "outputs": [],
   "source": [
    "todo_liste = [\"Aufstehen\", \"Aufräumen\", \"Zähne putzen\", \"Zur Schule gehen\", \"Heimfahren\", \"Hausaufgaben\", \"Zähne putzen\", \"Schlafen gehen\"]\n",
    "print(\"Elemente 3 bis 5:\", todo_liste[3:5])\n",
    "print(\"Elemente 0 bis 3:\", todo_liste[0:3])\n",
    "print(\"Elemente 1 bis 100:\", todo_liste[1:100])\n",
    "print(\"Elemente 1 bis -1:\", todo_liste[1:-1])\n",
    "print(\"Elemente vom Start bis zum Index 4:\", todo_liste[:4])\n",
    "print(\"Elemente ab 2 bis zum Ende:\", todo_liste[2:])\n",
    "print(\"Alle Elemente:\", todo_liste[:])"
   ]
  },
  {
   "cell_type": "markdown",
   "id": "29",
   "metadata": {},
   "source": [
    "Hier fallen mehrere Dinge auf:\n",
    "\n",
    "- Das Element für den Startindex ist im Slice mit enthalten\n",
    "- Das Element für den Endindex ist im Slice **nicht** enthalten\n",
    "- Auch bei Slices funktionieren negative Indizes\n",
    "- Wenn man einen zu hohen Index angibt, entsteht **kein** IndexError\n",
    "- Wenn man den Startindex weglässt, beginnt es per default bei 0\n",
    "- Wenn man den Endindex weglässt, läuft der Slice bis zum Ende (nützlich - man muss dann nicht wissen, wie viele Elemente enthalten sind!)\n",
    "- Wenn man beide Indizes weglässt, erhält man eine Kopie der ganzen Liste"
   ]
  },
  {
   "cell_type": "markdown",
   "id": "30",
   "metadata": {},
   "source": [
    "#### Slices von Strings\n",
    "\n",
    "Slices lassen sich nicht nur von Listen erstellen, sondern auch von Strings! Dadurch kann man einfach auf einzelne Buchstaben oder Teilstrings zugreifen:"
   ]
  },
  {
   "cell_type": "code",
   "execution_count": null,
   "id": "31",
   "metadata": {},
   "outputs": [],
   "source": [
    "s = \"Ein Haus am See mit Garten.\"\n",
    "print(s[0:3])\n",
    "print(s[4:])\n",
    "print(s[-7:-1])"
   ]
  },
  {
   "cell_type": "markdown",
   "id": "32",
   "metadata": {},
   "source": [
    "<div class=\"alert alert-block alert-info\">\n",
    "    \n",
    "### Zusammenfassung Abschnitt 2\n",
    "\n",
    "Was Du gelernt hast ...\n",
    "    \n",
    "- wie man Slices bildet\n",
    "- was die Default-Werte von Slices sind\n",
    "- dass Slices auch auf Strings anwendbar sind\n",
    "\n",
    "</div>"
   ]
  },
  {
   "cell_type": "markdown",
   "id": "33",
   "metadata": {},
   "source": []
  }
 ],
 "metadata": {
  "kernelspec": {
   "display_name": ".venv",
   "language": "python",
   "name": "python3"
  },
  "language_info": {
   "codemirror_mode": {
    "name": "ipython",
    "version": 3
   },
   "file_extension": ".py",
   "mimetype": "text/x-python",
   "name": "python",
   "nbconvert_exporter": "python",
   "pygments_lexer": "ipython3",
   "version": "3.13.5"
  }
 },
 "nbformat": 4,
 "nbformat_minor": 5
}
