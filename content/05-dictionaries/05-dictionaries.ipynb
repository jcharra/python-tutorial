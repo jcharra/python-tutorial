{
 "cells": [
  {
   "cell_type": "markdown",
   "id": "0",
   "metadata": {},
   "source": [
    "# Python-Tutorial Teil 5\n",
    "\n",
    "In diesem Teil geht es um den Datentyp `dict`, was eine Abkürzung ist von `Dictionary`.\n",
    "\n",
    "Das Wort `Dictionary` (engl. für \"Wörterbuch\", wie Du vermutlich weißt) deutet schon an, worum es hier geht: Ein Dictionary ist eine Datenstruktur in der man *Werte* \"nachschlagen\" kann und - falls das Dictionary den gesuchten Wert enthält - einen *zugehörigen Wert* finden kann.\n",
    "\n",
    "### Terminologie ###\n",
    "\n",
    "Im letzten Satz kam der Begriff \"Wert\" zweimal vor. Um das zu vermeiden, nutzen wir lieber gleich die korrekte Terminologie: Man nennt den Wert den man nachschlägt, den **key** (Schlüssel), und den zugehörigen Wert, den man findet: **value** (Wert).\n",
    "\n",
    "Denk bei Dictionaries einfach an eine zweispaltige Tabelle, so wie in einem typischen Wörterbuch eben:\n",
    "\n",
    "|key|value|\n",
    "|:--------:|:--------:|\n",
    "|\"Katze\"|\"chat\"|\n",
    "|\"Hund\"|\"chien\"|\n",
    "|\"Vogel\"|\"Oiseau\"|\n",
    "|...|...|\n",
    "\n",
    "⚠️ **Achtung** ⚠️ Die Analogie eines Wörterbuchs ist nicht 100% akkurat: In einem Wörterbuch können Wörter *mehrfach* auf der linken Seite auftauchen (z.B. das deutsche Wort \"Zug\", was mehrere Bedeutungen hat), das ist in einem Dictionary **nicht möglich**. Jeder Schlüssel kann nur einen Eintrag haben.\n",
    "\n",
    "Das gilt aber **umgekehrt nicht**: Auf der rechten Seite können die Values beliebig oft auftauchen."
   ]
  },
  {
   "cell_type": "markdown",
   "id": "336ae70b",
   "metadata": {},
   "source": [
    "## Abschnitt 1: Grundlagen von Dictionaries\n",
    "\n",
    "### Schreibweise\n",
    "\n",
    "Dictionaries schreibt man in **geschweiften** Klammern. Paare aus Keys und Values werden dabei mit einem Doppelpunkt getrennt. Mehrere key/value-Paare werden durch ein Komma getrennt:"
   ]
  },
  {
   "cell_type": "code",
   "execution_count": 2,
   "id": "30752aad",
   "metadata": {},
   "outputs": [],
   "source": [
    "d = {\"Katze\": \"chat\", \"Hund\": \"chien\", \"Vogel\": \"oiseau\"}\n",
    "\n",
    "# Für bessere Lesbarkeit schreibt man oft über mehrere Zeilen:\n",
    "d = {\"Katze\": \"chat\", \n",
    "     \"Hund\": \"chien\", \n",
    "     \"Vogel\": \"oiseau\"}"
   ]
  },
  {
   "cell_type": "markdown",
   "id": "2",
   "metadata": {},
   "source": [
    "### Erlaubte Datentypen\n",
    "\n",
    "Dictionaries können als keys viele, aber nicht alle Datentypen enthalten. Erlaubt sind unter anderem: `int`, `float`, `str`, `tuple`, `bool` und auch der `NoneType`.\n",
    "\n",
    "⚠️**Nicht erlaubt**⚠️ als keys sind unter anderem `list` und `dict`.\n",
    "\n",
    "Als Values sind **alle Datentypen** erlaubt.\n",
    "\n",
    "Hier einige Beispiele für Dictionaries:"
   ]
  },
  {
   "cell_type": "code",
   "execution_count": null,
   "id": "3",
   "metadata": {},
   "outputs": [],
   "source": [
    "leeres_dict = {}\n",
    "\n",
    "alter_von_schuelern = {\n",
    "  \"Hanna\": 16,\n",
    "  \"Albert\": 16,\n",
    "  \"Friedrich\": 16,\n",
    "  \"Jana\": 15,\n",
    "  \"Else\": 17,\n",
    "  \"Lara\": 14,\n",
    "  \"Rüdiger\": 18  \n",
    "}\n",
    "\n",
    "hauptstaedte = {\n",
    "  \"Frankreich\": \"Paris\",\n",
    "  \"Deutschland\": \"Berlin\",\n",
    "  \"Portugal\": \"Lissabon\",\n",
    "  \"Spanien\": \"Madrid\",\n",
    "}\n",
    "\n",
    "quadratzahlen = {\n",
    "  1: 1,\n",
    "  2: 4,\n",
    "  3: 9,\n",
    "  4: 16,\n",
    "  5: 25\n",
    "}\n",
    "\n",
    "teiler = {\n",
    "  50: [1, 2, 5, 10, 25, 50],\n",
    "  49: [1, 7, 49],\n",
    "  97: [1, 97],\n",
    "  60: [1, 2, 3, 4, 5, 6, 10, 12, 15, 20, 30, 60]\n",
    "}"
   ]
  },
  {
   "cell_type": "markdown",
   "id": "eac5544d",
   "metadata": {},
   "source": [
    "### Daten lesen\n",
    "\n",
    "Um einen key im Dictionary nachzuschlagen, verwendest Du *eckige Klammern*:"
   ]
  },
  {
   "cell_type": "code",
   "execution_count": 5,
   "id": "a9fd2524",
   "metadata": {},
   "outputs": [
    {
     "name": "stdout",
     "output_type": "stream",
     "text": [
      "Wie alt ist Hanna?\n",
      "16\n",
      "Was ist die Hauptstadt von Portugal?\n",
      "Lissabon\n",
      "Was ist das Quadrat von 4?\n",
      "16\n",
      "Was sind die Teiler von 60?\n",
      "[1, 2, 3, 4, 5, 6, 10, 12, 15, 20, 30, 60]\n"
     ]
    }
   ],
   "source": [
    "print(\"Wie alt ist Hanna?\")\n",
    "print(alter_von_schuelern[\"Hanna\"])\n",
    "\n",
    "print(\"Was ist die Hauptstadt von Portugal?\")\n",
    "print(hauptstaedte[\"Portugal\"])\n",
    "\n",
    "print(\"Was ist das Quadrat von 4?\")\n",
    "print(quadratzahlen[4])\n",
    "\n",
    "print(\"Was sind die Teiler von 60?\")\n",
    "print(teiler[60])"
   ]
  },
  {
   "cell_type": "markdown",
   "id": "2041bf83",
   "metadata": {},
   "source": [
    "Es kann der Fall auftreten, dass der gesuchte key sich nicht im Dictionary befindet. Das erzeugt dann einen `KeyError`:"
   ]
  },
  {
   "cell_type": "code",
   "execution_count": 10,
   "id": "f8343755",
   "metadata": {},
   "outputs": [
    {
     "name": "stdout",
     "output_type": "stream",
     "text": [
      "Was ist die Hauptstadt von Schweden?\n"
     ]
    },
    {
     "ename": "KeyError",
     "evalue": "'Schweden'",
     "output_type": "error",
     "traceback": [
      "\u001b[31m---------------------------------------------------------------------------\u001b[39m",
      "\u001b[31mKeyError\u001b[39m                                  Traceback (most recent call last)",
      "\u001b[36mCell\u001b[39m\u001b[36m \u001b[39m\u001b[32mIn[10]\u001b[39m\u001b[32m, line 2\u001b[39m\n\u001b[32m      1\u001b[39m \u001b[38;5;28mprint\u001b[39m(\u001b[33m\"\u001b[39m\u001b[33mWas ist die Hauptstadt von Schweden?\u001b[39m\u001b[33m\"\u001b[39m)\n\u001b[32m----> \u001b[39m\u001b[32m2\u001b[39m \u001b[38;5;28mprint\u001b[39m(\u001b[43mhauptstaedte\u001b[49m\u001b[43m[\u001b[49m\u001b[33;43m\"\u001b[39;49m\u001b[33;43mSchweden\u001b[39;49m\u001b[33;43m\"\u001b[39;49m\u001b[43m]\u001b[49m)\n",
      "\u001b[31mKeyError\u001b[39m: 'Schweden'"
     ]
    }
   ],
   "source": [
    "print(\"Was ist die Hauptstadt von Schweden?\")\n",
    "print(hauptstaedte[\"Schweden\"])"
   ]
  },
  {
   "cell_type": "markdown",
   "id": "d8f545f3",
   "metadata": {},
   "source": [
    "Wenn Du beim Nachschlagen eines keys also nicht sicher bist, ob er im Dictionary vorhanden ist, ist es besser, wenn Du die `get`-Methode von Dictionaries verwendest. Dabei entsteht garantiert kein Error, allerdings erhältst Du den Wert `None`, falls der key nicht gefunden wird:"
   ]
  },
  {
   "cell_type": "code",
   "execution_count": 11,
   "id": "d580b1a4",
   "metadata": {},
   "outputs": [
    {
     "name": "stdout",
     "output_type": "stream",
     "text": [
      "Was ist die Hauptstadt von Schweden?\n",
      "None\n"
     ]
    }
   ],
   "source": [
    "print(\"Was ist die Hauptstadt von Schweden?\")\n",
    "print(hauptstaedte.get(\"Schweden\"))"
   ]
  },
  {
   "cell_type": "markdown",
   "id": "8770b9b3",
   "metadata": {},
   "source": [
    "Das hilft bei der Suche nach der Hauptstadt zwar nicht weiter, vermeidet aber, dass Python abbricht (was es bei jedem Fehler sofort tut).\n",
    "\n",
    "Beachte unbedingt, dass `get` eine *Funktion* ist und Du daher *runde Klammern* dafür verwenden musst. "
   ]
  },
  {
   "cell_type": "markdown",
   "id": "72893502",
   "metadata": {},
   "source": [
    "### Daten einfügen / überschreiben\n",
    "\n",
    "Um Daten in ein Dict zu schreiben, verwendest Du die *eckigen Klammern*"
   ]
  },
  {
   "cell_type": "markdown",
   "id": "ef1441cd",
   "metadata": {},
   "source": [
    "# TODO"
   ]
  },
  {
   "cell_type": "markdown",
   "id": "49",
   "metadata": {},
   "source": [
    "<div class=\"alert alert-block alert-info\">\n",
    "    \n",
    "### Zusammenfassung Abschnitt 1\n",
    "\n",
    "Was Du gelernt hast ...\n",
    "    \n",
    "- wie man Dictionarys erzeugt\n",
    "- wie man Werte aus Dicts ausliest\n",
    "- wie man Werte in Dicts schreibt und aktualisiert\n",
    "- wie man Werte aus Dicts löscht\n",
    "</div>"
   ]
  },
  {
   "cell_type": "markdown",
   "id": "50",
   "metadata": {},
   "source": [
    "## Abschnitt 2: Mit Dictionarys arbeiten\n",
    "\n",
    "Dicts eignen sich hervorragend dazu, um Daten zu \"aggregieren\", also Informationen aus einer größeren Datenmenge zu sammeln."
   ]
  },
  {
   "cell_type": "code",
   "execution_count": 12,
   "id": "51",
   "metadata": {},
   "outputs": [],
   "source": [
    "# TODO: Wird fortgesetzt"
   ]
  },
  {
   "cell_type": "markdown",
   "id": "57",
   "metadata": {},
   "source": [
    "<div class=\"alert alert-block alert-info\">\n",
    "    \n",
    "### Zusammenfassung Abschnitt 2\n",
    "\n",
    "Was Du gelernt hast ...\n",
    "    \n",
    "- wie man Dictionarys dynamisch befüllt\n",
    "- wie man über Dictionarys iteriert\n",
    "</div>"
   ]
  },
  {
   "cell_type": "markdown",
   "id": "58",
   "metadata": {},
   "source": []
  }
 ],
 "metadata": {
  "kernelspec": {
   "display_name": ".venv",
   "language": "python",
   "name": "python3"
  },
  "language_info": {
   "codemirror_mode": {
    "name": "ipython",
    "version": 3
   },
   "file_extension": ".py",
   "mimetype": "text/x-python",
   "name": "python",
   "nbconvert_exporter": "python",
   "pygments_lexer": "ipython3",
   "version": "3.13.5"
  }
 },
 "nbformat": 4,
 "nbformat_minor": 5
}
