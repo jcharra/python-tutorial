{
 "cells": [
  {
   "cell_type": "markdown",
   "id": "0",
   "metadata": {},
   "source": [
    "# Python-Tutorial Teil 4\n",
    "\n",
    "In diesem Teil geht es um den Datentyp `list`, also um Listen. \n",
    "\n",
    "Listen sind eine der wichtigsten und am häufigsten verwendeten Datenstrukturen in Python, daher haben sie ihr eigenes Kapitel verdient.\n",
    "\n",
    "## Abschnitt 1: Schreibweise von Listen\n",
    "\n",
    "Listen schreibt man in eckigen Klammern:"
   ]
  },
  {
   "cell_type": "code",
   "execution_count": null,
   "id": "1",
   "metadata": {},
   "outputs": [],
   "source": [
    "meineliste = [1, 5.1, \"Hallo\", print]\n",
    "print(\"Meine Liste:\", meineliste)"
   ]
  },
  {
   "cell_type": "markdown",
   "id": "2",
   "metadata": {},
   "source": [
    "Listen können also unterschiedliche Datentypen enthalten, im obigen Beispiel `int`, `float`, `str` und `builtin_function`\n",
    "\n",
    "Hier sind weitere Beispiele für Listen:"
   ]
  },
  {
   "cell_type": "code",
   "execution_count": null,
   "id": "3",
   "metadata": {},
   "outputs": [],
   "source": [
    "leere_liste = []\n",
    "obstsorten = [\"Apfel\", \"Kirsche\", \"Erdbeeere\", \"Ananas\"]\n",
    "liste_von_listen = [[1, 2, 3], [4, 5, 6], [7, 8, 9]]"
   ]
  },
  {
   "cell_type": "markdown",
   "id": "4",
   "metadata": {},
   "source": [
    "Beachte das letzte Beispiel: Auch Listen können Elemente von Listen sein (Verschachtelung)!\n",
    "\n",
    "### Länge von Listen\n",
    "\n",
    "Um die Länge einer Liste zu berechnen, können wir die bereits bekannte Funktion `len` verwenden:"
   ]
  },
  {
   "cell_type": "code",
   "execution_count": null,
   "id": "5",
   "metadata": {},
   "outputs": [],
   "source": [
    "# Überlege zuerst, was hier jeweils herauskommen wird!\n",
    "print(\"Länge der leeren Liste:\", len(leere_liste))\n",
    "print(\"Anzahl Obstsorten:\", len(obstsorten))\n",
    "print(\"Länge der Liste von Listen:\", len(liste_von_listen))"
   ]
  },
  {
   "cell_type": "markdown",
   "id": "6",
   "metadata": {},
   "source": [
    "### Auf Listenelemente zugreifen: Indizes\n",
    "\n",
    "Wenn Du ein Element einer Liste verwenden möchtest, kannst Du per `Index` (Plural: Indizes) darauf zugreifen. Der Index gibt an, das wievielte Element Du haben möchtest. *Achtung: Man fängt bei 0 an zu zählen!*"
   ]
  },
  {
   "cell_type": "code",
   "execution_count": null,
   "id": "7",
   "metadata": {},
   "outputs": [],
   "source": [
    "print(\"Erste Obstsorte:\", obstsorten[0])\n",
    "print(\"Zweite Obstsorte:\", obstsorten[1])\n",
    "print(\"Dritte Obstsorte:\", obstsorten[2])\n",
    "print(\"Vierte Obstsorte:\", obstsorten[3])"
   ]
  },
  {
   "cell_type": "markdown",
   "id": "8",
   "metadata": {},
   "source": [
    "Wenn Du einen Index angibst, der über die Länge der Liste hinausgeht, entsteht ein `IndexError`:"
   ]
  },
  {
   "cell_type": "code",
   "execution_count": null,
   "id": "9",
   "metadata": {},
   "outputs": [],
   "source": [
    "obstsorten[10] # das klappt nicht ..."
   ]
  },
  {
   "cell_type": "markdown",
   "id": "10",
   "metadata": {},
   "source": [
    "Auch das Schreiben von Listenelementen läuft über die Index-Schreibweise. Du weist einen neuen Wert zu, indem Du angibst, welchen Index Du ändern möchtest:"
   ]
  },
  {
   "cell_type": "code",
   "execution_count": null,
   "id": "11",
   "metadata": {},
   "outputs": [],
   "source": [
    "obstsorten[2] = \"Maracuja\"\n",
    "print(obstsorten)"
   ]
  },
  {
   "cell_type": "markdown",
   "id": "12",
   "metadata": {},
   "source": [
    "### Negative Indizes\n",
    "\n",
    "Mit negativen Indizes kannst Du die Liste von hinten durchgehen. Der Index `-1` liefert das letzte Element, der Index `-2` das vorletzte etc."
   ]
  },
  {
   "cell_type": "code",
   "execution_count": null,
   "id": "13",
   "metadata": {},
   "outputs": [],
   "source": [
    "print(\"Letzte Obstsorte:\", obstsorten[-1])\n",
    "print(\"Vorletzte Obstsorte:\", obstsorten[-2])"
   ]
  },
  {
   "cell_type": "markdown",
   "id": "14",
   "metadata": {},
   "source": [
    "### Listen und for-Schleifen\n",
    "\n",
    "Listen sind *iterable* Objekte (so wie range-Objekte und Strings), das bedeutet man kann sie mit einer `for`-Schleife durchgehen."
   ]
  },
  {
   "cell_type": "code",
   "execution_count": null,
   "id": "15",
   "metadata": {},
   "outputs": [],
   "source": [
    "print(\"Ich mache einen leckeren Obstsalat!\")\n",
    "for obst in obstsorten:\n",
    "  print(f\"Jetzt füge ich {obst} hinzu.\")"
   ]
  },
  {
   "cell_type": "markdown",
   "id": "16",
   "metadata": {},
   "source": [
    "Eine Liste auf diese Weise durchzugehen ist eine extrem geläufige Operation in Python, die Du noch sehr oft brauchen wirst. Schau sie Dir gut an und stelle sicher, dass Du verstehst, wie die Variable `obst` in der obigen Zelle bei jedem Durchlauf einen neuen Wert erhält!\n",
    "\n",
    "### Expertenwissen: for-Schleife mit enumerate\n",
    "\n",
    "Wenn Du beim Durchgehen der Liste wissen möchtest, an welcher Stelle (welchem Index) Du Dich gerade befindest, kannst Du die Funktion `enumerate` verwenden.\n",
    "\n",
    "Das ist insofern etwas komplizierter, als Du jetzt *zwei* Variablen hast, eine für den Index und eine für das Listenelement:"
   ]
  },
  {
   "cell_type": "code",
   "execution_count": null,
   "id": "17",
   "metadata": {},
   "outputs": [],
   "source": [
    "for index, obst in enumerate(obstsorten):\n",
    "  print(f\"Zutat Nr. {index}: {obst}\")"
   ]
  },
  {
   "cell_type": "markdown",
   "id": "18",
   "metadata": {},
   "source": [
    "Beim Zählen möchte man natürlich eher mit der 1 beginnen. Dazu gibt es zwei Möglichkeiten: Entweder Du addierst zu der Variablen `index` jedesmal noch 1 dazu ..."
   ]
  },
  {
   "cell_type": "code",
   "execution_count": null,
   "id": "19",
   "metadata": {},
   "outputs": [],
   "source": [
    "for index, obst in enumerate(obstsorten):\n",
    "  print(f\"Zutat Nr. {index + 1}: {obst}\")"
   ]
  },
  {
   "cell_type": "markdown",
   "id": "20",
   "metadata": {},
   "source": [
    "... oder Du gibst der `enumerate`-Funktion den Startwert 1 mit, dann beginnt der Index in der Schleife bei 1:"
   ]
  },
  {
   "cell_type": "code",
   "execution_count": null,
   "id": "21",
   "metadata": {},
   "outputs": [],
   "source": [
    "for index, obst in enumerate(obstsorten, start=1):\n",
    "  print(f\"Zutat Nr. {index}: {obst}\")"
   ]
  },
  {
   "cell_type": "markdown",
   "id": "22",
   "metadata": {},
   "source": [
    "### Elemente in der Liste suchen und finden\n",
    "\n",
    "Wenn Du den Index eines Elements in einer Liste wissen möchtest, kannst Du die `index`-Methode der Liste verwenden:"
   ]
  },
  {
   "cell_type": "code",
   "execution_count": null,
   "id": "23",
   "metadata": {},
   "outputs": [],
   "source": [
    "print(\"Der Apfel steht an Index\", obstsorten.index(\"Apfel\"))"
   ]
  },
  {
   "cell_type": "markdown",
   "id": "24",
   "metadata": {},
   "source": [
    "Aber Vorsicht: Wenn das gesuchte Element nicht enthalten ist, entsteht ein `ValueError`:"
   ]
  },
  {
   "cell_type": "code",
   "execution_count": null,
   "id": "25",
   "metadata": {},
   "outputs": [],
   "source": [
    "print(\"Die Melone steht an Index\", obstsorten.index(\"Melone\")) # das kracht ..."
   ]
  },
  {
   "cell_type": "markdown",
   "id": "26",
   "metadata": {},
   "source": [
    "### Elemente einer Liste hinzufügen\n",
    "\n",
    "Um neue Elemente hinzuzufügen, verwendest Du die Methode `append`. Damit wird das angegebene Element an das Ende der Liste angehängt.\n",
    "\n",
    "Flexibler ist die Methode `insert`. Hier kannst Du den exakten Index angeben, wo das Element eingefügt werden soll. Beachte, dass das \"alte\" Element an diesem Index **nicht** überschrieben, sondern nach hinten verschoben wird."
   ]
  },
  {
   "cell_type": "code",
   "execution_count": null,
   "id": "27",
   "metadata": {},
   "outputs": [],
   "source": [
    "obstsorten.append(\"Drachenfrucht\")\n",
    "print(\"Die Obstsorten sind jetzt:\", obstsorten)\n",
    "\n",
    "obstsorten.insert(2, \"Stachelbeere\")\n",
    "print(\"Nach Einfügen der Stachelbeere an Index 2 sind die Obstsorten:\", obstsorten)"
   ]
  },
  {
   "cell_type": "markdown",
   "id": "28",
   "metadata": {},
   "source": [
    "### Elemente aus einer Liste entfernen\n",
    "\n",
    "Zum Entfernen gibt es ebenfalls zwei Methoden: `pop` und `remove`\n",
    "\n",
    "Mit `pop` entfernst Du das letzte Element der Liste. Wenn Du Dir merken möchtest, was das Element war, kannst Du es in einer Variablen speichern:"
   ]
  },
  {
   "cell_type": "code",
   "execution_count": null,
   "id": "29",
   "metadata": {},
   "outputs": [],
   "source": [
    "elemente = [10, \"Hi\", 40, \"Hans\"]\n",
    "elemente.pop()  # Entfernt das letzte Element, ohne es zu speichern\n",
    "print(\"Elemente nach dem ersten Aufruf von 'pop':\", elemente)\n",
    "dings = elemente.pop()  # Wir merken uns das entfernte Element\n",
    "print(\"Elemente nach dem zweiten Aufruf von 'pop':\", elemente, \"Entfernt wurde das Element\", dings)"
   ]
  },
  {
   "cell_type": "markdown",
   "id": "30",
   "metadata": {},
   "source": [
    "Du kannst der Methode `pop` auch einen Index mitgeben:"
   ]
  },
  {
   "cell_type": "code",
   "execution_count": null,
   "id": "31",
   "metadata": {},
   "outputs": [],
   "source": [
    "automarken = [\"VW\", \"Citroën\", \"Mercedes\", \"Renault\"]\n",
    "wahl = automarken.pop(1)  # Element an Index 1 wird entfernt und gespeichert.\n",
    "print(f\"Wahl: {wahl}, Automarken: {automarken}\")"
   ]
  },
  {
   "cell_type": "markdown",
   "id": "32",
   "metadata": {},
   "source": [
    "Mit der Methode `remove` kannst Du einen bestimmten **Wert** aus der Liste entfernen. Hier gibst Du also nicht den Index an."
   ]
  },
  {
   "cell_type": "code",
   "execution_count": null,
   "id": "33",
   "metadata": {},
   "outputs": [],
   "source": [
    "automarken.remove(\"VW\")\n",
    "print(automarken)"
   ]
  },
  {
   "cell_type": "markdown",
   "id": "34",
   "metadata": {},
   "source": [
    "Du musst Dir aber sicher sein, dass der Wert in der Liste enthalten ist, sonst erhältst Du einen Fehler:"
   ]
  },
  {
   "cell_type": "code",
   "execution_count": null,
   "id": "35",
   "metadata": {},
   "outputs": [],
   "source": [
    "automarken.remove(\"Porsche\")"
   ]
  },
  {
   "cell_type": "markdown",
   "id": "36",
   "metadata": {},
   "source": [
    "### Prüfen, ob ein Element enthalten ist\n",
    "\n",
    "Wenn Du prüfen willst, on ein bestimmtes Element in einer Liste ist, kannst Du das mit dem keyword `in` überprüfen:"
   ]
  },
  {
   "cell_type": "code",
   "execution_count": null,
   "id": "37",
   "metadata": {},
   "outputs": [],
   "source": [
    "liste = [100, 200, 300, 400]\n",
    "if 100 in liste:\n",
    "  print(\"100 ist in der Liste\")\n",
    "else:\n",
    "  print(\"100 ist NICHT in der Liste\")"
   ]
  },
  {
   "cell_type": "markdown",
   "id": "38",
   "metadata": {},
   "source": [
    "### Mehrere Variablen zuweisen mit Listen\n",
    "\n",
    "Du hast bereits gelernt, dass man mehrere Variablen auf einmal zuweisen kann, z.B. `a, b, c = 1, 2, 3`.\n",
    "\n",
    "Das funktioniert auch, wenn auf der rechten Seite der Zuweisung eine Liste steht. Wenn Du ganz sicher weißt, wie viele Elemente in der Liste stehen, kannst Du z.B. so etwas machen:"
   ]
  },
  {
   "cell_type": "code",
   "execution_count": null,
   "id": "39",
   "metadata": {},
   "outputs": [],
   "source": [
    "lottozahlen = [4, 12, 47, 24, 13, 2]\n",
    "z1, z2, z3, z4, z5, z6 = lottozahlen  # Hier muss ich sicher sein, dass in der Variablen \"lottozahlen\" wirklich 6 Elemente sind\n",
    "print(\"Die erste Zahl ist\", z1)\n",
    "print(\"Die zweite Zahl ist\", z2)\n",
    "# etc ..."
   ]
  },
  {
   "cell_type": "markdown",
   "id": "40",
   "metadata": {},
   "source": [
    "### Listen sortieren\n",
    "\n",
    "Listen besitzen eine Methode `sort`, mit der Du sie sortieren kannst:"
   ]
  },
  {
   "cell_type": "code",
   "execution_count": null,
   "id": "41",
   "metadata": {},
   "outputs": [],
   "source": [
    "zahlen = [34, -1, 4.5, 1000, -300, 50, 235, 45.3, 0.566]\n",
    "zahlen.sort()\n",
    "print(zahlen)"
   ]
  },
  {
   "cell_type": "markdown",
   "id": "42",
   "metadata": {},
   "source": [
    "Wie Du siehst, werden die Zahlen von klein nach groß sortiert (*aufsteigende Sortierung*).\n",
    "\n",
    "Wenn Du nicht *aufsteigend* sondern *absteigend* sortieren willst, kannst Du den parameter `reverse` mit übergeben und auf `True` setzen:"
   ]
  },
  {
   "cell_type": "code",
   "execution_count": null,
   "id": "43",
   "metadata": {},
   "outputs": [],
   "source": [
    "zahlen = [10, 20, 30, 40, -10, -20, -30, -40]\n",
    "zahlen.sort(reverse=True)\n",
    "print(zahlen)"
   ]
  },
  {
   "cell_type": "markdown",
   "id": "44",
   "metadata": {},
   "source": [
    "Sortierung funktioniert auch mit Strings, denn diese können alphabetisch geordnet werden:"
   ]
  },
  {
   "cell_type": "code",
   "execution_count": null,
   "id": "45",
   "metadata": {},
   "outputs": [],
   "source": [
    "strings = [\"abcde\", \"!!!!!\", \"Hallo\", \"    \", \"\\nGrüß euch!\"]\n",
    "strings.sort()\n",
    "print(strings)"
   ]
  },
  {
   "cell_type": "markdown",
   "id": "46",
   "metadata": {},
   "source": [
    "Bei Strings ist die Sortierlogik nicht ganz so offensichtlich wie bei Zahlen. Klar, Buchstaben aus dem Alphabet werden entsprechend sortiert, aber was ist mit Sonderzeichen? Das schauen wir uns später an. \n",
    "\n",
    "Für's Erste merk Dir: Strings haben eine \"natürliche\" Sortierung.\n",
    "\n",
    "### Sortierung von heterogenen Listen\n",
    "\n",
    "Was aber passiert, wenn man unterschiedliche Datentypen hat, z.B. Zahlen und Strings? "
   ]
  },
  {
   "cell_type": "code",
   "execution_count": null,
   "id": "47",
   "metadata": {},
   "outputs": [],
   "source": [
    "elemente = [\"Hallo\", 45, \"noch ein String\", -5]\n",
    "elemente.sort()"
   ]
  },
  {
   "cell_type": "markdown",
   "id": "48",
   "metadata": {},
   "source": [
    "Das klappt nicht, denn es gibt keine offensichtliche Sortierung. Ist die Zahl `45` nun größer oder kleiner als der String \"Hallo\"? \n",
    "\n",
    "Man könnte natürlich die Zahl zuerst in einen String umwandeln, dann würde es klappen. Python macht das aber nicht automatisch, daher kracht es in diesem Beispiel. \n",
    "\n",
    "**Für Neugierige**: Schau Dir die Fehlermeldung genau an: Python beklagt sich, dass `<` für `int` und `str` nicht unterstützt (\"not supported\") wird. Das macht auch Sinn: Wenn man Elemente sortiert, muss man sie mit `<` und `>` vergleichen, um die Reihenfolge zu ermitteln. Weil das mit einem `str`-Objekt und einem `int`-Objekt aber nicht geht, kommt es zu einem Fehler."
   ]
  },
  {
   "cell_type": "markdown",
   "id": "49",
   "metadata": {},
   "source": [
    "<div class=\"alert alert-block alert-info\">\n",
    "    \n",
    "### Zusammenfassung Abschnitt 1\n",
    "\n",
    "Was Du gelernt hast ...\n",
    "    \n",
    "- wie man Listen erzeugt\n",
    "- wie man auf Listenelemente zugreift\n",
    "- wie man über Listen iteriert\n",
    "- wie man Listen verändert\n",
    "- wie man Listen sortiert (was aber nur geht, wenn alle Elemente miteinander vergleichbar sind)\n",
    "</div>"
   ]
  },
  {
   "cell_type": "markdown",
   "id": "50",
   "metadata": {},
   "source": [
    "## Abschnitt 2: Slices\n",
    "\n",
    "Wenn man nicht bloß ein einzelnes Element, sondern einen \"Abschnitt\" einer Liste haben möchte, verwendet man so genannte `Slice`s. Das bedeutet, dass man einen Start- und einen End-Index angibt:"
   ]
  },
  {
   "cell_type": "code",
   "execution_count": null,
   "id": "51",
   "metadata": {},
   "outputs": [],
   "source": [
    "todo_liste = [\"Aufstehen\", \"Aufräumen\", \"Zähne putzen\", \"Zur Schule gehen\", \"Heimfahren\", \"Hausaufgaben\", \"Zähne putzen\", \"Schlafen gehen\"]\n",
    "print(\"Elemente 3 bis 5:\", todo_liste[3:5])\n",
    "print(\"Elemente 0 bis 3:\", todo_liste[0:3])\n",
    "print(\"Elemente 1 bis 100:\", todo_liste[1:100])\n",
    "print(\"Elemente 1 bis -1:\", todo_liste[1:-1])\n",
    "print(\"Elemente vom Start bis zum Index 4:\", todo_liste[:4])\n",
    "print(\"Elemente ab 2 bis zum Ende:\", todo_liste[2:])\n",
    "print(\"Alle Elemente:\", todo_liste[:])"
   ]
  },
  {
   "cell_type": "markdown",
   "id": "52",
   "metadata": {},
   "source": [
    "Hier fallen mehrere Dinge auf:\n",
    "\n",
    "- Das Element für den Startindex ist im Slice mit enthalten\n",
    "- Das Element für den Endindex ist im Slice **nicht** enthalten\n",
    "- Auch bei Slices funktionieren negative Indizes\n",
    "- Wenn man einen zu hohen Index angibt, entsteht **kein** IndexError\n",
    "- Wenn man den Startindex weglässt, beginnt es per default bei 0\n",
    "- Wenn man den Endindex weglässt, läuft der Slice bis zum Ende (nützlich - man muss dann nicht wissen, wie viele Elemente enthalten sind!)\n",
    "- Wenn man beide Indizes weglässt, erhält man eine Kopie der ganzen Liste"
   ]
  },
  {
   "cell_type": "markdown",
   "id": "53",
   "metadata": {},
   "source": [
    "#### Schrittweite in Slices\n",
    "\n",
    "Slices bieten die Möglichkeit, eine Schrittweite anzugeben, analog zu `range`: Du übergibst nach dem Start- und dem Endindex noch einen dritten Wert:"
   ]
  },
  {
   "cell_type": "code",
   "execution_count": null,
   "id": "54",
   "metadata": {},
   "outputs": [],
   "source": [
    "staedte = [\n",
    "    \"Berlin\", \"Paris\", \"London\", \"Rom\", \"Madrid\",\n",
    "    \"New York\", \"Los Angeles\", \"Chicago\", \"Toronto\", \"Vancouver\",\n",
    "    \"Sydney\", \"Melbourne\", \"Tokyo\", \"Osaka\", \"Seoul\",\n",
    "    \"Beijing\", \"Shanghai\", \"Bangkok\", \"Singapore\", \"Dubai\",\n",
    "    \"Moskau\", \"Kiew\", \"Warschau\", \"Budapest\", \"Prag\",\n",
    "    \"Amsterdam\", \"Brüssel\", \"Lissabon\", \"Zürich\", \"Stockholm\"\n",
    "]\n",
    "\n",
    "print(\"Städte von Index 2 bis 9, in 2er-Schritten\", staedte[2:10:2])\n",
    "print(\"Städte von Index 0 bis 10, in 3er-Schritten\", staedte[:11:3]) # Default-Startindex ist 0\n",
    "print(\"Städte ab Index 5 in 4er-Schritten\", staedte[5::4])           # Default-Endindex ist len(liste), also der letzte Index + 1 (!)\n",
    "print(\"Städteliste rückwärts\", staedte[::-1])                        # Merk Dir diesen Trick! :) Beachte: Hier werden die Defaultwerte anders gewählt, weil die Schrittweite negativ ist!"
   ]
  },
  {
   "cell_type": "markdown",
   "id": "55",
   "metadata": {},
   "source": [
    "#### Slices von Strings\n",
    "\n",
    "Slices lassen sich nicht nur von Listen erstellen, sondern auch von Strings! 💡 Dadurch kann man einfach auf einzelne Buchstaben oder Teilstrings zugreifen:"
   ]
  },
  {
   "cell_type": "code",
   "execution_count": null,
   "id": "56",
   "metadata": {},
   "outputs": [],
   "source": [
    "s = \"Ein Haus am See mit Garten - wie schön!\"\n",
    "print(s[0:3])\n",
    "print(s[4:])\n",
    "print(s[-7:-1])\n",
    "print(s[1:9:2])\n",
    "print(\"Der Satz rückwärts:\", s[::-1])"
   ]
  },
  {
   "cell_type": "markdown",
   "id": "57",
   "metadata": {},
   "source": [
    "<div class=\"alert alert-block alert-info\">\n",
    "    \n",
    "### Zusammenfassung Abschnitt 2\n",
    "\n",
    "Was Du gelernt hast ...\n",
    "    \n",
    "- wie man Slices bildet\n",
    "- was die Default-Werte von Slices sind\n",
    "- dass Slices auch auf Strings anwendbar sind\n",
    "\n",
    "</div>"
   ]
  },
  {
   "cell_type": "markdown",
   "id": "58",
   "metadata": {},
   "source": []
  }
 ],
 "metadata": {
  "kernelspec": {
   "display_name": ".venv",
   "language": "python",
   "name": "python3"
  },
  "language_info": {
   "codemirror_mode": {
    "name": "ipython",
    "version": 3
   },
   "file_extension": ".py",
   "mimetype": "text/x-python",
   "name": "python",
   "nbconvert_exporter": "python",
   "pygments_lexer": "ipython3",
   "version": "3.13.5"
  }
 },
 "nbformat": 4,
 "nbformat_minor": 5
}
