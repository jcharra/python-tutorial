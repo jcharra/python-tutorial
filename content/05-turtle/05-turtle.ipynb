{
 "cells": [
  {
   "cell_type": "markdown",
   "id": "0",
   "metadata": {},
   "source": [
    "# Python-Tutorial Teil 5\n",
    "\n",
    "In diesem Teil geht es um eine Grafikbibliothek namens \"Turtle\". \n",
    "\n",
    "Dieses Kapitel ist also eine kleine Pause von der Beschäftigung mit den Grundlagen von Python, um die bisherigen Kenntnisse praktisch anzuwenden und dabei auch ein bisschen etwas zu sehen zu kriegen.\n",
    "\n",
    "### Verwendung von Turtle ###\n",
    "\n",
    "Um Turtle in Python zu verwenden müssen wir es *importieren*. Das haben wir in vorigen Übungen schon gemacht, mit dem Paket `random`. So ähnlich beginnt man auch, wenn man `turtle` verwenden möchte:"
   ]
  },
  {
   "cell_type": "code",
   "execution_count": null,
   "id": "c4548493",
   "metadata": {},
   "outputs": [],
   "source": [
    "from turtle import *"
   ]
  },
  {
   "cell_type": "markdown",
   "id": "406f266a",
   "metadata": {},
   "source": [
    "Dies ist meistens die erste Zeile in einem Programm, das mit `turtle` arbeitet. Dieser Befehl bedeutet so viel wie \"Hole mal alles was zu Turtle gehört in mein Programm, damit ich es verwenden kann\". Der `*` ist in der Informatik oft ein Platzhalter für \"alles\". \n",
    "\n",
    "Du könntest auch die Einzelteile von turtle Stück für Stück in Dein Programm importieren, aber das ist für den Anfang zu aufwändig.\n",
    "\n",
    "Hier ein erstes kleines turtle-Programm:"
   ]
  },
  {
   "cell_type": "code",
   "execution_count": 3,
   "id": "84095edf",
   "metadata": {},
   "outputs": [],
   "source": [
    "from turtle import *\n",
    "\n",
    "forward(100)\n",
    "left(120)\n",
    "forward(100)\n",
    "left(120)\n",
    "forward(100)\n",
    "\n",
    "done()"
   ]
  },
  {
   "cell_type": "markdown",
   "id": "14",
   "metadata": {},
   "source": [
    "<div class=\"alert alert-block alert-info\">\n",
    "    \n",
    "### Zusammenfassung Abschnitt 1\n",
    "\n",
    "Was Du gelernt hast ...\n",
    "    \n",
    "- wie man Dictionarys erzeugt\n",
    "- wie man Werte aus Dicts ausliest\n",
    "- wie man Werte in Dicts schreibt und aktualisiert\n",
    "- wie man Werte aus Dicts löscht\n",
    "</div>"
   ]
  }
 ],
 "metadata": {
  "kernelspec": {
   "display_name": ".venv",
   "language": "python",
   "name": "python3"
  },
  "language_info": {
   "codemirror_mode": {
    "name": "ipython",
    "version": 3
   },
   "file_extension": ".py",
   "mimetype": "text/x-python",
   "name": "python",
   "nbconvert_exporter": "python",
   "pygments_lexer": "ipython3",
   "version": "3.13.7"
  }
 },
 "nbformat": 4,
 "nbformat_minor": 5
}
