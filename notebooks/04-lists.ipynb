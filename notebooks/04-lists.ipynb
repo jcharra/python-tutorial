{
 "cells": [
  {
   "cell_type": "markdown",
   "id": "355feb3e",
   "metadata": {},
   "source": [
    "# Python-Tutorial Teil 4\n",
    "\n",
    "In diesem Teil geht es um den Datentyp `list`, also um Listen. \n",
    "\n",
    "Listen sind eine der wichtigsten und am häufigsten verwendeten Datenstrukturen in Python, daher haben sie ihr eigenes Kapitel verdient.\n",
    "\n",
    "## Abschnitt 1: Schreibweise von Listen\n",
    "\n",
    "Listen schreibt man in eckigen Klammern:"
   ]
  },
  {
   "cell_type": "code",
   "execution_count": 6,
   "id": "d9d7b5fe",
   "metadata": {},
   "outputs": [
    {
     "name": "stdout",
     "output_type": "stream",
     "text": [
      "Meine Liste: [1, 5.1, 'Hallo', <built-in function print>]\n"
     ]
    }
   ],
   "source": [
    "meineliste = [1, 5.1, \"Hallo\", print]\n",
    "print(\"Meine Liste:\", meineliste)"
   ]
  },
  {
   "cell_type": "markdown",
   "id": "adc2b847",
   "metadata": {},
   "source": [
    "Listen können also unterschiedliche Datentypen enthalten, im obigen Beispiel `int`, `float`, `str` und `builtin_function`\n",
    "\n",
    "Hier sind weitere Beispiele für Listen:"
   ]
  },
  {
   "cell_type": "code",
   "execution_count": 7,
   "id": "0f7a34dc",
   "metadata": {},
   "outputs": [],
   "source": [
    "leere_liste = []\n",
    "obstsorten = [\"Apfel\", \"Kirsche\", \"Erdbeeere\", \"Ananas\"]\n",
    "liste_von_listen = [[1, 2, 3], [4, 5, 6], [7, 8, 9]]"
   ]
  },
  {
   "cell_type": "markdown",
   "id": "9dd03f40",
   "metadata": {},
   "source": [
    "Beachte das letzte Beispiel: Auch Listen können Elemente von Listen sein (Verschachtelung)!\n",
    "\n",
    "### Länge von Listen\n",
    "\n",
    "Um die Länge einer Liste zu berechnen, können wir die bereits bekannte Funktion `len` verwenden:"
   ]
  },
  {
   "cell_type": "code",
   "execution_count": 9,
   "id": "89f1dcb6",
   "metadata": {},
   "outputs": [
    {
     "name": "stdout",
     "output_type": "stream",
     "text": [
      "Länge der leeren Liste: 0\n",
      "Anzahl Obstsorten: 4\n",
      "Länge der Liste von Listen: 3\n"
     ]
    }
   ],
   "source": [
    "# Überlege zuerst, was hier jeweils herauskommen wird!\n",
    "print(\"Länge der leeren Liste:\", len(leere_liste))\n",
    "print(\"Anzahl Obstsorten:\", len(obstsorten))\n",
    "print(\"Länge der Liste von Listen:\", len(liste_von_listen))"
   ]
  },
  {
   "cell_type": "markdown",
   "id": "f627a5b9",
   "metadata": {},
   "source": [
    "### Auf Listenelemente zugreifen: Indizes\n",
    "\n",
    "Wenn Du ein Element einer Liste verwenden möchtest, kannst Du per `Index` (Plural: Indizes) darauf zugreifen. Der Index gibt an, das wievielte Element Du haben möchtest. *Achtung: Man fängt bei 0 an zu zählen!*"
   ]
  },
  {
   "cell_type": "code",
   "execution_count": 10,
   "id": "88e4afc1",
   "metadata": {},
   "outputs": [
    {
     "name": "stdout",
     "output_type": "stream",
     "text": [
      "Erste Obstsorte: Apfel\n",
      "Zweite Obstsorte: Kirsche\n",
      "Dritte Obstsorte: Erdbeeere\n",
      "Vierte Obstsorte: Ananas\n"
     ]
    }
   ],
   "source": [
    "print(\"Erste Obstsorte:\", obstsorten[0])\n",
    "print(\"Zweite Obstsorte:\", obstsorten[1])\n",
    "print(\"Dritte Obstsorte:\", obstsorten[2])\n",
    "print(\"Vierte Obstsorte:\", obstsorten[3])"
   ]
  },
  {
   "cell_type": "markdown",
   "id": "c815dee2",
   "metadata": {},
   "source": [
    "### Negative Indizes\n",
    "\n",
    "Mit negativen Indizes kannst Du die Liste von hinten durchgehen. Der Index `-1` liefert das letzte Element, der Index `-2` das vorletzte etc."
   ]
  },
  {
   "cell_type": "code",
   "execution_count": 11,
   "id": "6e64b8be",
   "metadata": {},
   "outputs": [
    {
     "name": "stdout",
     "output_type": "stream",
     "text": [
      "Letzte Obstsorte: Ananas\n",
      "Vorletzte Obstsorte: Erdbeeere\n"
     ]
    }
   ],
   "source": [
    "print(\"Letzte Obstsorte:\", obstsorten[-1])\n",
    "print(\"Vorletzte Obstsorte:\", obstsorten[-2])"
   ]
  },
  {
   "cell_type": "markdown",
   "id": "78695f6a",
   "metadata": {},
   "source": [
    "### Listen und for-Schleifen\n",
    "\n",
    "Listen sind *iterable* Objekte (so wie range-Objekte und Strings), das bedeutet man kann sie mit einer `for`-Schleife durchgehen."
   ]
  },
  {
   "cell_type": "code",
   "execution_count": 13,
   "id": "7c9d6546",
   "metadata": {},
   "outputs": [
    {
     "name": "stdout",
     "output_type": "stream",
     "text": [
      "Ich mache einen leckeren Obstsalat!\n",
      "Jetzt füge ich Apfel hinzu.\n",
      "Jetzt füge ich Kirsche hinzu.\n",
      "Jetzt füge ich Erdbeeere hinzu.\n",
      "Jetzt füge ich Ananas hinzu.\n"
     ]
    }
   ],
   "source": [
    "print(\"Ich mache einen leckeren Obstsalat!\")\n",
    "for obst in obstsorten:\n",
    "  print(f\"Jetzt füge ich {obst} hinzu.\")"
   ]
  },
  {
   "cell_type": "markdown",
   "id": "fba82286",
   "metadata": {},
   "source": [
    "Eine Liste auf diese Weise durchzugehen ist eine extrem geläufige Operation in Python, die Du noch sehr oft brauchen wirst. Schau sie Dir gut an und stelle sicher, dass Du verstehst, wie die Variable `obst` in der obigen Zelle bei jedem Durchlauf einen neuen Wert erhält!\n",
    "\n",
    "### Alternative: for-Schleife mit enumerate\n",
    "\n",
    "Wenn Du beim Durchgehen der Liste wissen möchtest, an welcher Stelle (welchem Index) Du Dich gerade befindest, kannst Du die Funktion `enumerate` verwenden.\n",
    "\n",
    "Das ist insofern etwas komplizierter, als Du jetzt *zwei* Variablen hast, eine für den Index und eine für das Listenelement:"
   ]
  },
  {
   "cell_type": "code",
   "execution_count": 14,
   "id": "f4c00484",
   "metadata": {},
   "outputs": [
    {
     "name": "stdout",
     "output_type": "stream",
     "text": [
      "Zutat Nr. 0: Apfel\n",
      "Zutat Nr. 1: Kirsche\n",
      "Zutat Nr. 2: Erdbeeere\n",
      "Zutat Nr. 3: Ananas\n"
     ]
    }
   ],
   "source": [
    "for index, obst in enumerate(obstsorten):\n",
    "  print(f\"Zutat Nr. {index}: {obst}\")"
   ]
  },
  {
   "cell_type": "markdown",
   "id": "5d1082f6",
   "metadata": {},
   "source": [
    "Beim Zählen möchte man natürlich eher mit der 1 beginnen. Dazu gibt es zwei Möglichkeiten: Entweder Du addierst zu der Variablen `index` jedesmal noch 1 dazu ..."
   ]
  },
  {
   "cell_type": "code",
   "execution_count": 15,
   "id": "0a69b49b",
   "metadata": {},
   "outputs": [
    {
     "name": "stdout",
     "output_type": "stream",
     "text": [
      "Zutat Nr. 1: Apfel\n",
      "Zutat Nr. 2: Kirsche\n",
      "Zutat Nr. 3: Erdbeeere\n",
      "Zutat Nr. 4: Ananas\n"
     ]
    }
   ],
   "source": [
    "for index, obst in enumerate(obstsorten):\n",
    "  print(f\"Zutat Nr. {index + 1}: {obst}\")"
   ]
  },
  {
   "cell_type": "markdown",
   "id": "69e9a7d4",
   "metadata": {},
   "source": [
    "... oder Du gibst der `enumerate`-Funktion den Startwert 1 mit, dann beginnt der Index in der Schleife bei 1:"
   ]
  },
  {
   "cell_type": "code",
   "execution_count": 16,
   "id": "302c4f49",
   "metadata": {},
   "outputs": [
    {
     "name": "stdout",
     "output_type": "stream",
     "text": [
      "Zutat Nr. 1: Apfel\n",
      "Zutat Nr. 2: Kirsche\n",
      "Zutat Nr. 3: Erdbeeere\n",
      "Zutat Nr. 4: Ananas\n"
     ]
    }
   ],
   "source": [
    "for index, obst in enumerate(obstsorten, start=1):\n",
    "  print(f\"Zutat Nr. {index}: {obst}\")"
   ]
  },
  {
   "cell_type": "markdown",
   "id": "458d54de",
   "metadata": {},
   "source": [
    "### Elemente in der Liste suchen und finden\n",
    "\n",
    "Wenn Du den Index eines Elements in einer Liste wissen möchtest, kannst Du die `index`-Methode der Liste verwenden:"
   ]
  },
  {
   "cell_type": "code",
   "execution_count": null,
   "id": "a597c1a4",
   "metadata": {},
   "outputs": [
    {
     "name": "stdout",
     "output_type": "stream",
     "text": [
      "Der Apfel steht an Index 0\n"
     ]
    }
   ],
   "source": [
    "print(\"Der Apfel steht an Index\", obstsorten.index(\"Apfel\"))"
   ]
  },
  {
   "cell_type": "markdown",
   "id": "c9cdc71b",
   "metadata": {},
   "source": [
    "Aber Vorsicht: Wenn das gesuchte Element nicht enthalten ist, entsteht ein `ValueError`:"
   ]
  },
  {
   "cell_type": "code",
   "execution_count": 20,
   "id": "82c2ac9e",
   "metadata": {},
   "outputs": [
    {
     "ename": "ValueError",
     "evalue": "'Melone' is not in list",
     "output_type": "error",
     "traceback": [
      "\u001b[31m---------------------------------------------------------------------------\u001b[39m",
      "\u001b[31mValueError\u001b[39m                                Traceback (most recent call last)",
      "\u001b[36mCell\u001b[39m\u001b[36m \u001b[39m\u001b[32mIn[20]\u001b[39m\u001b[32m, line 1\u001b[39m\n\u001b[32m----> \u001b[39m\u001b[32m1\u001b[39m \u001b[38;5;28mprint\u001b[39m(\u001b[33m\"\u001b[39m\u001b[33mDie Melone steht an Index\u001b[39m\u001b[33m\"\u001b[39m, \u001b[43mobstsorten\u001b[49m\u001b[43m.\u001b[49m\u001b[43mindex\u001b[49m\u001b[43m(\u001b[49m\u001b[33;43m\"\u001b[39;49m\u001b[33;43mMelone\u001b[39;49m\u001b[33;43m\"\u001b[39;49m\u001b[43m)\u001b[49m) \u001b[38;5;66;03m# das kracht ...\u001b[39;00m\n",
      "\u001b[31mValueError\u001b[39m: 'Melone' is not in list"
     ]
    }
   ],
   "source": [
    "print(\"Die Melone steht an Index\", obstsorten.index(\"Melone\")) # das kracht ..."
   ]
  },
  {
   "cell_type": "markdown",
   "id": "aed1d4ba",
   "metadata": {},
   "source": [
    "<div class=\"alert alert-block alert-info\">\n",
    "    \n",
    "### Zusammenfassung Abschnitt 1\n",
    "\n",
    "Was Du gelernt hast ...\n",
    "    \n",
    "- wie man `range` verwendet um Zahlenfolgen zu generieren.\n",
    "- wie man dabei untere und obere Grenzen angibt\n",
    "- wie man die Schrittweite definiert\n",
    "- wie man dabei rückwärts läuft\n",
    "- dass Faulheit beim Programmieren manchmal wertvoll sein kann 😴👍🏻\n",
    "\n",
    "</div>"
   ]
  }
 ],
 "metadata": {
  "kernelspec": {
   "display_name": ".venv",
   "language": "python",
   "name": "python3"
  },
  "language_info": {
   "codemirror_mode": {
    "name": "ipython",
    "version": 3
   },
   "file_extension": ".py",
   "mimetype": "text/x-python",
   "name": "python",
   "nbconvert_exporter": "python",
   "pygments_lexer": "ipython3",
   "version": "3.13.5"
  }
 },
 "nbformat": 4,
 "nbformat_minor": 5
}
