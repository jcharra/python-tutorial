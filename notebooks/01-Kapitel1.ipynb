{
 "cells": [
  {
   "cell_type": "markdown",
   "id": "355feb3e",
   "metadata": {},
   "source": [
    "# Python-Tutorial Teil 1"
   ]
  },
  {
   "cell_type": "markdown",
   "id": "eedda5d9",
   "metadata": {},
   "source": [
    "Python ist eine Programmiersprache, die 1991 von Guido van Rossum entwickelt wurde. Sie ist relativ einfach zu lernen und zeichnet sich durch eine gut lesbare Schreibweise aus. [Mehr Infos auf Wikipedia](https://de.wikipedia.org/wiki/Python_(Programmiersprache))\n",
    "\n",
    "Trotz der Anfängerfreundlichkeit ist Python auch unter professionellen Entwicklern beliebt und wird z.B. im wissenschaftlichen Bereich (u.a. im Bereich der KI) sehr intensiv eingesetzt. Python war in den letzten Jahren stets eine der populärsten, wenn nicht sogar die populärste Programmiersprache der Welt, laut dem [TIOBE-Index](https://www.tiobe.com/tiobe-index/)\n",
    "\n",
    "Führe die folgende Zelle mit SHIFT + Enter aus:"
   ]
  },
  {
   "cell_type": "code",
   "execution_count": 54,
   "id": "704126d5",
   "metadata": {},
   "outputs": [
    {
     "name": "stdout",
     "output_type": "stream",
     "text": [
      "Ich lerne jetzt 🐍Python🐍 ... endlich! 😁\n"
     ]
    }
   ],
   "source": [
    "print(\"Ich lerne jetzt 🐍Python🐍 ... endlich! 😁\")"
   ]
  },
  {
   "cell_type": "markdown",
   "id": "7148d7b9",
   "metadata": {},
   "source": [
    "Du hast hier eine **Funktion** von Python verwendet, die sich `print` nennt. Damit kannst Du Text ausdrucken, aber auch beliebige andere Daten. Wir werden print nachher noch genauer betrachten. \n",
    "\n",
    "Für den Anfang merk' Dir: Du verwendest `print`, indem Du in **runden Klammern** `( ... )` dahinter schreibst, was Du ausgeben möchtest. Das werden wir im Folgenden ständig verwenden, um zu verstehen, wie Python die Dinge interpretiert."
   ]
  },
  {
   "cell_type": "markdown",
   "id": "8fcc46d8",
   "metadata": {},
   "source": [
    "#### Ausdrucksweise 👨🏻‍🏫📖\n",
    "\n",
    "Das \"Verwenden\" von Funktionen nennt man **Aufrufen**. Das was Du an die Funktion in Klammern übergibst sind die **Argumente**. Eine Funktion kann eines oder mehrere Argumente entgegennehmen, eventuell aber auch gar keine.\n",
    "\n",
    "Beispiel: \n",
    "\n",
    "```python\n",
    "print(\"Hallo zusammen! Bonjour tout le monde!\")\n",
    "```\n",
    "\n",
    "Das könntest Du beschreiben mit den Worten: *Ich rufe die Funktion print auf und übergebe einen String als Argument* (was ein String ist wird gleich erklärt)\n"
   ]
  },
  {
   "cell_type": "markdown",
   "id": "736f0e21",
   "metadata": {},
   "source": [
    "## Abschnitt 1: Datentypen\n",
    "\n",
    "Python arbeitet mit **Daten**, und jedes Daten-\"Ding\" nennt man ein **Objekt**. Und jedes solche Objekt hat einen **Typ**. Der Typ eines Objekts beschreibt, was für eine Art von Objekt es ist bzw. zu welcher Kategorie das Objekt gehört. \n",
    "\n",
    "Im folgenden werden einige grundlegende Typen vorgestellt.\n",
    "\n",
    "### Datentyp \"int\" (integer)\n",
    "\n",
    "Wenn Python zum Beispiel mit der Zahl `150` arbeitet, dann ist das ein Objekt vom Typ `int`. \n",
    "\n",
    "Das Wort **int** ist eine Kurzform des englischen Begriffs **integer**, was \"Ganzzahl\" bedeutet. Ganze Zahlen sind bekanntlich 0, 1, 2, 3, 4, 5, etc. aber auch negative Zahlen wie -1, -2, -3 etc.\n",
    "\n",
    "Um den Typ eines Objekts zu ermitteln, gibt es die Funktion `type`:"
   ]
  },
  {
   "cell_type": "code",
   "execution_count": 65,
   "id": "024b14ca",
   "metadata": {},
   "outputs": [
    {
     "data": {
      "text/plain": [
       "int"
      ]
     },
     "execution_count": 65,
     "metadata": {},
     "output_type": "execute_result"
    }
   ],
   "source": [
    "type(150)"
   ]
  },
  {
   "cell_type": "markdown",
   "id": "77d26dec",
   "metadata": {},
   "source": [
    "Mit Ganzzahlen (also `int`s) kann man in Python rechnen wie aus dem Matheunterricht gewohnt. Man muss nur wissen, wie man die jeweiligen mathematischen Operationen schreibt. Führe folgende Zelle aus, um die arithmetischen Operationen auszuwerten:"
   ]
  },
  {
   "cell_type": "code",
   "execution_count": 71,
   "id": "3795e5c3",
   "metadata": {},
   "outputs": [
    {
     "name": "stdout",
     "output_type": "stream",
     "text": [
      "100\n",
      "-10\n",
      "2000\n",
      "4.0\n"
     ]
    }
   ],
   "source": [
    "# Addition\n",
    "print(50 + 50)\n",
    "\n",
    "# Subtraktion\n",
    "print(10 - 20)\n",
    "\n",
    "# Multiplikation mit Sternchen (nicht mit \"x\")\n",
    "print(40 * 50)\n",
    "\n",
    "# Division mit Schrägstrich/Slash (nicht mit \":\")\n",
    "print(200 / 50)"
   ]
  },
  {
   "cell_type": "markdown",
   "id": "c4977046",
   "metadata": {},
   "source": [
    "### Datentyp \"float\" (floating point number)\n",
    "\n",
    "Vielleicht ist Dir aufgefallen, dass bei der Division eine Kommazahl herauskam. Das ist bei der Division immer so, auch wenn `4.0` theoretisch eine Ganzzahl ist. Was für einen Typ hat `4.0` aber in Python? Lass es uns mit der `type`-Funktion herausfinden:"
   ]
  },
  {
   "cell_type": "code",
   "execution_count": 105,
   "id": "7af87d80",
   "metadata": {},
   "outputs": [
    {
     "data": {
      "text/plain": [
       "float"
      ]
     },
     "execution_count": 105,
     "metadata": {},
     "output_type": "execute_result"
    }
   ],
   "source": [
    "type(4.0)"
   ]
  },
  {
   "cell_type": "markdown",
   "id": "6d4a64e0",
   "metadata": {},
   "source": [
    "Oha ... ein neuer Datentyp. `float` steht für **floating point number** (Fließkommazahl), was sehr kompliziert klingt. Das liegt daran, dass dieser Datentyp \"im Inneren\" von Python ziemlich kompliziert gebaut ist (in allen anderen Programmiersprachen übrigens auch). \n",
    "\n",
    "Das braucht uns aber zum Glück (vorerst) nicht zu interessieren. Im Grunde ist `float` nur der Datentyp für **Kommazahlen**. Wenn Du also `float` liest, denk einfach an \"Kommazahl\". \n",
    "\n",
    "⚠️**Ach ja, ganz wichtig**⚠️ Kommazahlen haben in Programmiersprachen eigentlich nie ein Komma, sondern stattdessen einen **Punkt** `.` Das Komma wird von Python als Trennzeichen interpretiert, also bitte nicht für Zahlen verwenden."
   ]
  },
  {
   "cell_type": "markdown",
   "id": "736754bf",
   "metadata": {},
   "source": [
    "### Datentyp \"bool\" (boolean)\n",
    "\n",
    "Unser nächster Datentyp ist `bool`, was wiederum eine Kurzform ist, es steht nämlich für \"boolean\", benannt nach [George Boole](https://de.wikipedia.org/wiki/George_Boole). Auf deutsch spricht man von \"boole'schen Werten\".\n",
    "\n",
    "Dieser Datentyp ist so ziemlich das Einfachste, was man sich vorstellen kann, denn er hat nur zwei mögliche Werte: **True** (wahr) und **False** (falsch).\n",
    "\n",
    "Dennoch sind `bool`s extrem wichtig, wenn es in einem Programm um Entscheidungen geht. Ist eine Bedingung X erfüllt? Ist ein bestimmter Wert zu groß oder zu klein? Immer wenn man solche Dinge berücksichtigen möchte, kommen booleans in Spiel.\n",
    "\n",
    "Bevor Du die folgende Zelle ausführst, überlege Dir welche Resultate Du erwartest. Ist das, was in der Klammer steht *richtig*? Dann müsste `True` ausgegeben werden, andernfalls `False`."
   ]
  },
  {
   "cell_type": "code",
   "execution_count": 78,
   "id": "dd76626d",
   "metadata": {},
   "outputs": [
    {
     "name": "stdout",
     "output_type": "stream",
     "text": [
      "True\n",
      "False\n",
      "False\n",
      "True\n",
      "True\n",
      "True\n",
      "False\n",
      "False\n",
      "True\n",
      "True\n"
     ]
    }
   ],
   "source": [
    "print(True)           # Man kann die Werte True und False auch direkt verwenden\n",
    "print(False)\n",
    "print(5 > 10)         # Ist 5 größer als 10?\n",
    "print(1 < 100)\n",
    "print(1 + 1 == 2)     # Mit == prüfst Du ob zwei Objekte gleich sind\n",
    "print(100 != 200)     # Mit != prüfst Du ob zwei Objekte ungleich sind\n",
    "print(10 != 10)\n",
    "print(10 + 10 > 20)   # Python wird hier die linke Seite zuerst ausrechnen und dann vergleichen\n",
    "print(5 >= 5)         # >= bedeutet \"größer oder gleich\"\n",
    "print(-1 <= -1)       # <= bedeutet \"kleiner oder gleich\""
   ]
  },
  {
   "cell_type": "markdown",
   "id": "b7d6a87d",
   "metadata": {},
   "source": [
    "#### Kommentare 📝\n",
    "\n",
    "Du hast vielleicht die `#`-Zeichen in manchen Code-Zellen bemerkt. Das sind **Kommentare**, die von Python ignoriert werden. Du kannst sie in Deinem Code ebenfalls verwenden, um Dir Ideen/Gedanken in den Code zu schreiben. Alles hinter dem `#` wird von Python nicht mehr interpretiert."
   ]
  },
  {
   "cell_type": "markdown",
   "id": "b69e386a",
   "metadata": {},
   "source": [
    "Wir geben uns noch den Typ eines booleans aus:"
   ]
  },
  {
   "cell_type": "code",
   "execution_count": 103,
   "id": "e20e7f6f",
   "metadata": {},
   "outputs": [
    {
     "data": {
      "text/plain": [
       "bool"
      ]
     },
     "execution_count": 103,
     "metadata": {},
     "output_type": "execute_result"
    }
   ],
   "source": [
    "type(True)"
   ]
  },
  {
   "cell_type": "markdown",
   "id": "da607527",
   "metadata": {},
   "source": [
    "#### Pssst ... Spezialwissen\n",
    "\n",
    "Ein `boolean` ist insgeheim nur ein `int`, denn der Wert `False` ist das gleiche wie der Wert `0` und der Wert `True` ist das gleiche wie der Wert `1`.\n",
    "\n",
    "Glaubst Du nicht? Probier mal folgendes aus:"
   ]
  },
  {
   "cell_type": "code",
   "execution_count": 111,
   "id": "20c423ff",
   "metadata": {},
   "outputs": [
    {
     "name": "stdout",
     "output_type": "stream",
     "text": [
      "31\n",
      "0\n",
      "True\n",
      "True\n"
     ]
    }
   ],
   "source": [
    "print(10 + 20 + True - 5 * False)\n",
    "print(100 * False)\n",
    "print(True == 1)\n",
    "print(False == 0)   # False ist 0, daher ist das Ergebnis des Vergleichs True 🤪"
   ]
  },
  {
   "cell_type": "markdown",
   "id": "92f8f841",
   "metadata": {},
   "source": [
    "### Datentyp \"str\" (String / Zeichenkette)\n",
    "\n",
    "Ein **String** ist eine Zeichenkette, also eine Aneinanderreihung von Zeichen. Strings dürfen nie ohne Anführungszeichen geschrieben werden, sonst versucht Python sie auszuwerten:"
   ]
  },
  {
   "cell_type": "code",
   "execution_count": 79,
   "id": "3702b25c",
   "metadata": {},
   "outputs": [
    {
     "name": "stdout",
     "output_type": "stream",
     "text": [
      "10\n",
      "5+5\n"
     ]
    }
   ],
   "source": [
    "print(5+5)    # wird ausgewertet\n",
    "print(\"5+5\")  # wird von Python \"in Ruhe gelassen\" bzw. als Text interpretiert."
   ]
  },
  {
   "cell_type": "markdown",
   "id": "ef4dc970",
   "metadata": {},
   "source": [
    "Du kannst Strings mit einfachen oder doppelten Hochkommas schreiben. Wenn ein String über mehrere Zeilen gehen soll, verwende dreifache Hochkommas (einfache oder doppelte 😵‍💫):"
   ]
  },
  {
   "cell_type": "code",
   "execution_count": 88,
   "id": "b8c1a4cf",
   "metadata": {},
   "outputs": [
    {
     "name": "stdout",
     "output_type": "stream",
     "text": [
      "Ein String mit doppelten Hochkommas\n",
      "Ein String mit einfachen Hochkommas\n",
      "Ein String mit dreifachen doppelten Hochkommas. Er kann\n",
      "sogar in der nächsten Zeile weitergehen.\n",
      "Und auch in der folgenden Zeile ...\n",
      "Ein String mit dreifachen einfachen Hochkommas. Funktioniert genau \n",
      "so wie das Beispiel darüber ...\n",
      "kann also über beliebig viele Zeilen gehen ...\n"
     ]
    }
   ],
   "source": [
    "print(\"Ein String mit doppelten Hochkommas\")\n",
    "print('Ein String mit einfachen Hochkommas')\n",
    "print(\"\"\"Ein String mit dreifachen doppelten Hochkommas. Er kann\n",
    "sogar in der nächsten Zeile weitergehen.\n",
    "Und auch in der folgenden Zeile ...\"\"\")\n",
    "print('''Ein String mit dreifachen einfachen Hochkommas. Funktioniert genau \n",
    "so wie das Beispiel darüber ...\n",
    "kann also über beliebig viele Zeilen gehen ...''')"
   ]
  },
  {
   "cell_type": "markdown",
   "id": "1d4c550d",
   "metadata": {},
   "source": [
    "Mehrere Strings kann man mit `+` aneinanderhängen (*konkatenieren*):"
   ]
  },
  {
   "cell_type": "code",
   "execution_count": 89,
   "id": "de335608",
   "metadata": {},
   "outputs": [
    {
     "name": "stdout",
     "output_type": "stream",
     "text": [
      "Ich finde Strings super\n"
     ]
    }
   ],
   "source": [
    "print(\"Ich \" + \"finde \" + \"Strings \" + \"super\")"
   ]
  },
  {
   "cell_type": "markdown",
   "id": "4045c96c",
   "metadata": {},
   "source": [
    "Mit dem `*`-Operator kann man Strings vervielfachen:"
   ]
  },
  {
   "cell_type": "code",
   "execution_count": 90,
   "id": "115beced",
   "metadata": {},
   "outputs": [
    {
     "name": "stdout",
     "output_type": "stream",
     "text": [
      "Python rocks! 🤩💪 Python rocks! 🤩💪 Python rocks! 🤩💪 Python rocks! 🤩💪 Python rocks! 🤩💪 Python rocks! 🤩💪 Python rocks! 🤩💪 Python rocks! 🤩💪 Python rocks! 🤩💪 Python rocks! 🤩💪 Python rocks! 🤩💪 Python rocks! 🤩💪 Python rocks! 🤩💪 Python rocks! 🤩💪 Python rocks! 🤩💪 Python rocks! 🤩💪 Python rocks! 🤩💪 Python rocks! 🤩💪 Python rocks! 🤩💪 Python rocks! 🤩💪 Python rocks! 🤩💪 Python rocks! 🤩💪 Python rocks! 🤩💪 Python rocks! 🤩💪 Python rocks! 🤩💪 Python rocks! 🤩💪 Python rocks! 🤩💪 Python rocks! 🤩💪 Python rocks! 🤩💪 Python rocks! 🤩💪 Python rocks! 🤩💪 Python rocks! 🤩💪 Python rocks! 🤩💪 Python rocks! 🤩💪 Python rocks! 🤩💪 Python rocks! 🤩💪 Python rocks! 🤩💪 Python rocks! 🤩💪 Python rocks! 🤩💪 Python rocks! 🤩💪 Python rocks! 🤩💪 Python rocks! 🤩💪 Python rocks! 🤩💪 Python rocks! 🤩💪 Python rocks! 🤩💪 Python rocks! 🤩💪 Python rocks! 🤩💪 Python rocks! 🤩💪 Python rocks! 🤩💪 Python rocks! 🤩💪 \n"
     ]
    }
   ],
   "source": [
    "print(\"Python rocks! 🤩💪 \" * 50)"
   ]
  },
  {
   "cell_type": "markdown",
   "id": "2df119bd",
   "metadata": {},
   "source": [
    "Mit der `len`-Funktion kann man die Länge eines Strings berechnen:"
   ]
  },
  {
   "cell_type": "code",
   "execution_count": 91,
   "id": "0c2d42ab",
   "metadata": {},
   "outputs": [
    {
     "data": {
      "text/plain": [
       "63"
      ]
     },
     "execution_count": 91,
     "metadata": {},
     "output_type": "execute_result"
    }
   ],
   "source": [
    "len(\"Rindfleischetikettierungsüberwachungsaufgabenübertragungsgesetz\")"
   ]
  },
  {
   "cell_type": "markdown",
   "id": "1ed5f9cd",
   "metadata": {},
   "source": [
    "#### f-Strings\n",
    "\n",
    "Eine Spezialform von Strings, die sehr nützlich ist, sind die `f-Strings` (formatierte Strings), die man einfach verwendet, indem man vor das Hochkomma zu Beginn ein `f` schreibt. Das bewirkt, dass man im \"Inneren\" des String mit Hilfe von **geschweiften Klammern** `{ ... }` Dinge einbauen kann, die dann *eben doch* von Python interpretiert werden:"
   ]
  },
  {
   "cell_type": "code",
   "execution_count": 97,
   "id": "61b335e5",
   "metadata": {},
   "outputs": [
    {
     "name": "stdout",
     "output_type": "stream",
     "text": [
      "5 mal 7 Euro macht 35 Euro\n"
     ]
    }
   ],
   "source": [
    "print(f\"5 mal 7 Euro macht {5 * 7} Euro\")"
   ]
  },
  {
   "cell_type": "markdown",
   "id": "867d17b5",
   "metadata": {},
   "source": [
    "Der Typ eines Strings ist `str`:"
   ]
  },
  {
   "cell_type": "code",
   "execution_count": 104,
   "id": "fefdad0d",
   "metadata": {},
   "outputs": [
    {
     "data": {
      "text/plain": [
       "str"
      ]
     },
     "execution_count": 104,
     "metadata": {},
     "output_type": "execute_result"
    }
   ],
   "source": [
    "type(\"Python\")"
   ]
  },
  {
   "cell_type": "markdown",
   "id": "0c4d870a",
   "metadata": {},
   "source": [
    "#### Typen umwandeln\n",
    "\n",
    "Manchmal möchte man einen Wert von einem Typ in den anderen konvertieren. Dazu gibt es für die bisher behandelten Typen gleichnamige Funktionen `int`, `float`, `bool` und `str`."
   ]
  },
  {
   "cell_type": "code",
   "execution_count": 152,
   "id": "2e6866a3",
   "metadata": {},
   "outputs": [
    {
     "name": "stdout",
     "output_type": "stream",
     "text": [
      "200\n",
      "3.1415\n",
      "42\n",
      "3\n"
     ]
    }
   ],
   "source": [
    "print(int(\"200\"))      # das wird zum int 200\n",
    "print(float(\"3.1415\")) # das wird zum float 3.1415\n",
    "print(str(42))         # das wird zum String \"42\"\n",
    "print(int(3.1415))     # das wird zum int 3 (Nachkommastellen werden einfach entfernt)"
   ]
  },
  {
   "cell_type": "markdown",
   "id": "f1a0ef48",
   "metadata": {},
   "source": [
    "Aber Achtung, das kann schief gehen:"
   ]
  },
  {
   "cell_type": "code",
   "execution_count": 151,
   "id": "7ecf748a",
   "metadata": {},
   "outputs": [
    {
     "ename": "ValueError",
     "evalue": "invalid literal for int() with base 10: 'Python'",
     "output_type": "error",
     "traceback": [
      "\u001b[0;31m---------------------------------------------------------------------------\u001b[0m",
      "\u001b[0;31mValueError\u001b[0m                                Traceback (most recent call last)",
      "Cell \u001b[0;32mIn[151], line 1\u001b[0m\n\u001b[0;32m----> 1\u001b[0m \u001b[38;5;28;43mint\u001b[39;49m\u001b[43m(\u001b[49m\u001b[38;5;124;43m\"\u001b[39;49m\u001b[38;5;124;43mPython\u001b[39;49m\u001b[38;5;124;43m\"\u001b[39;49m\u001b[43m)\u001b[49m  \u001b[38;5;66;03m# Das soll eine Zahl sein?!\u001b[39;00m\n",
      "\u001b[0;31mValueError\u001b[0m: invalid literal for int() with base 10: 'Python'"
     ]
    }
   ],
   "source": [
    "int(\"Python\")  # Das soll eine Zahl sein?!"
   ]
  },
  {
   "cell_type": "markdown",
   "id": "643e4709",
   "metadata": {},
   "source": [
    "Eine Konvertierung fehlt noch, nämlich zu `bool` ... das ist etwas speziell."
   ]
  },
  {
   "cell_type": "code",
   "execution_count": 154,
   "id": "05891fe3",
   "metadata": {},
   "outputs": [
    {
     "name": "stdout",
     "output_type": "stream",
     "text": [
      "True\n"
     ]
    }
   ],
   "source": [
    "print(bool(\"Hallo\"))   # Was kommt hier wohl raus?"
   ]
  },
  {
   "cell_type": "markdown",
   "id": "0b842655",
   "metadata": {},
   "source": [
    "Nanu, warum soll `\"Hallo\"` denn bitte \"wahr\" sein? Die Erklärung ist simpel: In Python wird **so ziemlich alles** zu `True`, wenn man es in einen boolean umwandelt. Es gibt nur ein paar wenige Ausnahmen:"
   ]
  },
  {
   "cell_type": "code",
   "execution_count": 155,
   "id": "bed6cf9c",
   "metadata": {},
   "outputs": [
    {
     "name": "stdout",
     "output_type": "stream",
     "text": [
      "False\n",
      "False\n",
      "False\n",
      "False\n",
      "False\n",
      "False\n",
      "False\n"
     ]
    }
   ],
   "source": [
    "print(bool(0))\n",
    "print(bool(0.0))\n",
    "print(bool(\"\"))\n",
    "\n",
    "# Ab hier kennst Du die Typen noch nicht ... kommt später\n",
    "print(bool(None))   # (das leere Objekt)\n",
    "print(bool([]))     # (eine leere Liste)\n",
    "print(bool({}))     # (ein leeres Wörterbuch)\n",
    "print(bool(()))     # (ein leeres Tupel)"
   ]
  },
  {
   "cell_type": "markdown",
   "id": "44d02487",
   "metadata": {},
   "source": [
    "Erkennst Du das Muster dahinter? Alles was irgendwie \"leer\" ist oder Null, oder Nichts (`None`), wird als `False` interpretiert. **Alles andere als `True`.**"
   ]
  },
  {
   "cell_type": "markdown",
   "id": "aed1d4ba",
   "metadata": {},
   "source": [
    "<div class=\"alert alert-block alert-info\">\n",
    "    \n",
    "### Zusammenfassung Abschnitt 1\n",
    "\n",
    "Was Du gelernt hast ...\n",
    "    \n",
    "- die Datentypen `int` (Ganzzahl), `float` (Kommazahl), `bool` (Wahrheitswert) und `str` (String) \n",
    "- Vergleichs- und arithmetische Operatoren \n",
    "- die `type`-Funktion\n",
    "- das Konvertieren von Werten in die bisher bekannten Typen\n",
    "    \n",
    "</div>"
   ]
  },
  {
   "cell_type": "markdown",
   "id": "acc060dd",
   "metadata": {},
   "source": [
    "## Abschnitt 2: Namen / Variablen\n",
    "\n",
    "### Namen zuweisen\n",
    "\n",
    "Um Daten zu speichern kann man ihnen **Namen** zuweisen. Man spricht auch von **Variablen**.\n",
    "\n",
    "Um beispielsweise unter dem Namen `a` den Wert `1` zu speichern und unter dem Namen `b` den Wert `2`, macht man Folgendes:\n",
    "\n",
    "```python\n",
    "a = 1\n",
    "b = 2\n",
    "```\n",
    "\n",
    "Beachte, dass für die **Zuweisung** ein **einfaches Gleichzeichen** verwendet wird. Weiter oben haben wir ein **doppeltes Gleichzeichen** für den Vergleich zweier Objekte verwendet.\n",
    "\n",
    "Der Python-Interpreter verwendet zum Speichern von Namen so etwas wie eine zweispaltige Liste, die nach den beiden Zuweisungen in etwa so aussieht:\n",
    "   \n",
    "|Name|Objekt|\n",
    "|:--------:|:--------:|\n",
    "|a|1|\n",
    "|b|2|\n",
    "|...|...|\n",
    "    \n",
    "Immer wenn ein Name im Code verwendet wird, schaut Python in seiner Liste nach und holt den zugehörigen Wert:\n",
    "\n"
   ]
  },
  {
   "cell_type": "code",
   "execution_count": 127,
   "id": "454b0717",
   "metadata": {},
   "outputs": [
    {
     "name": "stdout",
     "output_type": "stream",
     "text": [
      "100\n"
     ]
    }
   ],
   "source": [
    "a = 100\n",
    "print(a)"
   ]
  },
  {
   "cell_type": "markdown",
   "id": "5d554198",
   "metadata": {},
   "source": [
    "Was aber passiert, wenn der Name in der Liste nicht gefunden wird?"
   ]
  },
  {
   "cell_type": "code",
   "execution_count": 128,
   "id": "80c80658",
   "metadata": {},
   "outputs": [
    {
     "ename": "NameError",
     "evalue": "name 'x' is not defined",
     "output_type": "error",
     "traceback": [
      "\u001b[0;31m---------------------------------------------------------------------------\u001b[0m",
      "\u001b[0;31mNameError\u001b[0m                                 Traceback (most recent call last)",
      "Cell \u001b[0;32mIn[128], line 1\u001b[0m\n\u001b[0;32m----> 1\u001b[0m \u001b[38;5;28mprint\u001b[39m(\u001b[43mx\u001b[49m)    \u001b[38;5;66;03m# Das geht schief ... 🙈\u001b[39;00m\n",
      "\u001b[0;31mNameError\u001b[0m: name 'x' is not defined"
     ]
    }
   ],
   "source": [
    "print(x)    # Das geht schief ... 🙈"
   ]
  },
  {
   "cell_type": "markdown",
   "id": "8ac78cae",
   "metadata": {},
   "source": [
    "Keine Sorge, es ist nichts kaputt gegangen, so sehen Fehlermeldungen in Python immer aus. Kleiner Tipp vorweg: Schau bei **Errors**, also Fehlermeldungen immer auf die *letzte Zeile* der Meldung. Dort steht fast immer ein guter Hinweis, was genau schief gelaufen ist.\n",
    "\n",
    "So auch hier: **NameError** weist auf einen Fehler hin, der mit einem Namen zu tun hat. Und `name 'x' is not defined` ist auch relativ klar: Der Name `x` ist *nicht definiert*, also nicht in der Namensliste enthalten."
   ]
  },
  {
   "cell_type": "markdown",
   "id": "2ae5d8d0",
   "metadata": {},
   "source": [
    "### Namen neu zuweisen\n",
    "\n",
    "Wenn Du einem Namen einen neuen Wert zuweisen willst, kannst Du das einfach mit einer erneuten Zuweisung tun:\n",
    "    \n",
    "`a = 100`\n",
    "\n",
    "Jetzt hat der Name `a` einen neuen Wert:\n",
    "    \n",
    "    \n",
    "|Name|Objekt|\n",
    "|:--------:|:--------:|\n",
    "|a|100|\n",
    "|b|2|\n",
    "|...|...|\n",
    "   \n",
    "Im Gegensatz zu anderen Programmiersprachen legst Du Namen in Python *nicht mit einem festen Typ* an, das heißt Du bist nach der Zuweisung `a = 100` nicht verpflichtet, den Namen `a` später nur für Zahlen zu verwenden."
   ]
  },
  {
   "cell_type": "code",
   "execution_count": 129,
   "id": "5ff67846",
   "metadata": {},
   "outputs": [
    {
     "name": "stdout",
     "output_type": "stream",
     "text": [
      "100\n",
      "Hallo\n",
      "True\n"
     ]
    }
   ],
   "source": [
    "a = 100\n",
    "print(a)\n",
    "a = \"Hallo\"\n",
    "print(a)\n",
    "a = True\n",
    "print(a)"
   ]
  },
  {
   "cell_type": "markdown",
   "id": "fcfb9f96",
   "metadata": {},
   "source": [
    "Mit dem Komma entsteht standardmäßig (per \"default\") ein Leerzeichen zwischen den Objekten, die ausgedruckt werden. Dieses Standard-Trennzeichen kannst Du mit dem Parameter `sep` ändern:"
   ]
  },
  {
   "cell_type": "markdown",
   "id": "bbf5ed6e",
   "metadata": {},
   "source": [
    "Dennoch ist es ratsam (um sich selbst nicht zu verwirren und Fehler zu vermeiden) für die selbe Variable immer den gleichen Typ zu verwenden.\n",
    "\n",
    "#### Erlaubte Namen\n",
    "\n",
    "Namen dürfen beliebig lang sein, aber Du darfst nur Buchstaben (groß und klein), Ziffern und Unterstriche `_` für Deine Namen verwenden. Außerdem dürfen sie nicht mit einer Ziffer beginnen!"
   ]
  },
  {
   "cell_type": "code",
   "execution_count": 130,
   "id": "bd7e5842",
   "metadata": {},
   "outputs": [],
   "source": [
    "meine_lieblingszahl = 42\n",
    "_ein_string_ = \"Hallo\"\n",
    "pi31415 = 3.1415\n",
    "EULERSCHE_ZAHL = 2.71828"
   ]
  },
  {
   "cell_type": "markdown",
   "id": "d63a3c95",
   "metadata": {},
   "source": [
    "#### Keywords\n",
    "\n",
    "Python hat einige reservierte Begriffe, so genannte **keywords**. Diese kannst Du **nicht als Namen** verwenden.\n",
    "\n",
    "Du kannst Dir die keywords folgendermaßen ausgeben lassen:"
   ]
  },
  {
   "cell_type": "code",
   "execution_count": 131,
   "id": "21719b7a",
   "metadata": {},
   "outputs": [
    {
     "name": "stdout",
     "output_type": "stream",
     "text": [
      "['False', 'None', 'True', 'and', 'as', 'assert', 'async', 'await', 'break', 'class', 'continue', 'def', 'del', 'elif', 'else', 'except', 'finally', 'for', 'from', 'global', 'if', 'import', 'in', 'is', 'lambda', 'nonlocal', 'not', 'or', 'pass', 'raise', 'return', 'try', 'while', 'with', 'yield']\n"
     ]
    }
   ],
   "source": [
    "import keyword\n",
    "print(keyword.kwlist)"
   ]
  },
  {
   "cell_type": "markdown",
   "id": "7cfcc159",
   "metadata": {},
   "source": [
    "Du musst diese keywords natürlich noch nicht alle verstehen, aber falls Du jemals eines davon als Name verwenden möchtest wirst Du einen Fehler erhalten wie zum Beispiel beim Ausführen der folgenden Zelle:"
   ]
  },
  {
   "cell_type": "code",
   "execution_count": 132,
   "id": "9f8f90f7",
   "metadata": {},
   "outputs": [
    {
     "ename": "SyntaxError",
     "evalue": "invalid syntax (2046953698.py, line 1)",
     "output_type": "error",
     "traceback": [
      "\u001b[0;36m  Cell \u001b[0;32mIn[132], line 1\u001b[0;36m\u001b[0m\n\u001b[0;31m    for = 4\u001b[0m\n\u001b[0m        ^\u001b[0m\n\u001b[0;31mSyntaxError\u001b[0m\u001b[0;31m:\u001b[0m invalid syntax\n"
     ]
    }
   ],
   "source": [
    "for = 4"
   ]
  },
  {
   "cell_type": "markdown",
   "id": "5fc53ec7",
   "metadata": {},
   "source": [
    "#### Einen Wert erhöhen / verringern\n",
    "\n",
    "Oft will man den Wert hinter einem Namen *um eine bestimmte Differenz* ändern. Das geht ganz einfach, indem man den Namen auch auf der rechten Seite der Zuweisung verwendet:"
   ]
  },
  {
   "cell_type": "code",
   "execution_count": 133,
   "id": "89855df6",
   "metadata": {},
   "outputs": [
    {
     "name": "stdout",
     "output_type": "stream",
     "text": [
      "10\n",
      "60\n"
     ]
    }
   ],
   "source": [
    "a = 10\n",
    "print(a)\n",
    "a = a + 50  # aktueller Wert plus 50\n",
    "print(a)"
   ]
  },
  {
   "cell_type": "markdown",
   "id": "83e4400a",
   "metadata": {},
   "source": [
    "Da das eine geläufige Operation ist, gibt es dafür eine Kurzfassung:"
   ]
  },
  {
   "cell_type": "code",
   "execution_count": 134,
   "id": "3e72d398",
   "metadata": {},
   "outputs": [
    {
     "name": "stdout",
     "output_type": "stream",
     "text": [
      "10\n",
      "60\n"
     ]
    }
   ],
   "source": [
    "a = 10\n",
    "print(a)\n",
    "a += 50    # erhöht den aktuellen Wert von a um 50\n",
    "print(a)"
   ]
  },
  {
   "cell_type": "markdown",
   "id": "e66eae08",
   "metadata": {},
   "source": [
    "Für viele Operatoren gibt es eine ganz ähnliche Kurzform:"
   ]
  },
  {
   "cell_type": "code",
   "execution_count": 126,
   "id": "a821c9e6",
   "metadata": {},
   "outputs": [
    {
     "name": "stdout",
     "output_type": "stream",
     "text": [
      "10\n",
      "30\n",
      "20\n",
      "200\n",
      "40.0\n"
     ]
    }
   ],
   "source": [
    "a = 10\n",
    "print(a)\n",
    "a += 20  \n",
    "print(a)\n",
    "a -= 10\n",
    "print(a)\n",
    "a *= 10\n",
    "print(a)\n",
    "a /= 5\n",
    "print(a)"
   ]
  },
  {
   "cell_type": "markdown",
   "id": "ed761d27",
   "metadata": {},
   "source": [
    "**Das klappt für die Operatoren `+` und `*` übrigens auch bei Strings:**"
   ]
  },
  {
   "cell_type": "code",
   "execution_count": 142,
   "id": "ea5b0663",
   "metadata": {},
   "outputs": [
    {
     "name": "stdout",
     "output_type": "stream",
     "text": [
      "Grüß Dich!\n",
      "Grüß Dich! Wie geht's? \n",
      "Grüß Dich! Wie geht's? Grüß Dich! Wie geht's? Grüß Dich! Wie geht's? \n"
     ]
    }
   ],
   "source": [
    "s = \"Grüß Dich!\"\n",
    "print(s)\n",
    "s += \" Wie geht's? \"\n",
    "print(s)\n",
    "s *= 3\n",
    "print(s)"
   ]
  },
  {
   "cell_type": "markdown",
   "id": "727cb976",
   "metadata": {},
   "source": [
    "<div class=\"alert alert-block alert-info\">\n",
    "    \n",
    "### Zusammenfassung Abschnitt 2\n",
    "\n",
    "Was Du gelernt hast ...\n",
    "    \n",
    "- wie man einem Namen einen Wert zuweist, welche Namen erlaubt sind und welche keywords reserviert sind\n",
    "- wie man einen Wert relativ zum aktuellen Wert verändert\n",
    "    \n",
    "</div>"
   ]
  },
  {
   "cell_type": "code",
   "execution_count": 16,
   "id": "5f798c30",
   "metadata": {},
   "outputs": [
    {
     "name": "stdout",
     "output_type": "stream",
     "text": [
      "Das-ist-ein-Satz-mit-vielen-Strings\n"
     ]
    }
   ],
   "source": [
    "print(\"Das\", \"ist\", \"ein\", \"Satz\", \"mit\", \"vielen\", \"Strings\", sep=\"-\")"
   ]
  },
  {
   "cell_type": "markdown",
   "id": "7a5b2148",
   "metadata": {},
   "source": [
    "Wenn Du mehrere print-Befehle verwendest, wird jede Zeile standardmäßig mit einem Zeilenumbruch `\\n`\n",
    " abgeschlossen. Auch das kannst Du ändern, indem Du den Parameter `end` verwendest:"
   ]
  },
  {
   "cell_type": "code",
   "execution_count": 8,
   "id": "6325f8f6",
   "metadata": {},
   "outputs": [
    {
     "name": "stdout",
     "output_type": "stream",
     "text": [
      "Zeile 1\n",
      "Zeile 2\n",
      "Zeile 3\n",
      "Zeile 1.Zeile 2?Zeile 3!"
     ]
    }
   ],
   "source": [
    "# Standard-Print\n",
    "print(\"Zeile 1\")\n",
    "print(\"Zeile 2\")\n",
    "print(\"Zeile 3\")\n",
    "\n",
    "# Mit geändertem end-Zeichen\n",
    "print(\"Zeile 1\", end=\".\")\n",
    "print(\"Zeile 2\", end=\"?\")\n",
    "print(\"Zeile 3\", end=\"!\")"
   ]
  },
  {
   "cell_type": "markdown",
   "id": "a1f6b655",
   "metadata": {},
   "source": [
    "Du kannst beliebige Objekte an print übergeben, also auch Zahlen, Berechnungen, oder sogar die print-Funktion selbst:"
   ]
  },
  {
   "cell_type": "code",
   "execution_count": 9,
   "id": "0e1d3977",
   "metadata": {},
   "outputs": [
    {
     "name": "stdout",
     "output_type": "stream",
     "text": [
      "Ein String 12345 0.345 <built-in function print>\n"
     ]
    }
   ],
   "source": [
    "print(\"Ein String\", 12345, .345, print)"
   ]
  },
  {
   "cell_type": "markdown",
   "id": "995f94e9",
   "metadata": {},
   "source": [
    "Wenn Du einem String ein `f` voranstellst, kannst Du im Inneren des Strings mit geschweiften Klammern `{}` Dinge evaluieren. Also zum Beispiel Variablen oder Berechnungen:"
   ]
  },
  {
   "cell_type": "code",
   "execution_count": 17,
   "id": "4c44c449",
   "metadata": {},
   "outputs": [
    {
     "name": "stdout",
     "output_type": "stream",
     "text": [
      "Das Ergebnis von 1 + 1 ist 2\n",
      "Die Variable a hat den Wert 100 und ihr Quadrat ist 10000\n"
     ]
    }
   ],
   "source": [
    "print(f\"Das Ergebnis von 1 + 1 ist {1+1}\")\n",
    "a = 100\n",
    "print(f\"Die Variable a hat den Wert {a} und ihr Quadrat ist {a ** 2}\")"
   ]
  },
  {
   "cell_type": "markdown",
   "id": "b4bf053c",
   "metadata": {},
   "source": [
    "## 2. Eingaben mit input"
   ]
  },
  {
   "cell_type": "markdown",
   "id": "48de35a6",
   "metadata": {},
   "source": [
    "Mit Hilfe der `input` Funktion kannst Du den Benutzer um eine Eingabe bitten:"
   ]
  },
  {
   "cell_type": "code",
   "execution_count": 18,
   "id": "f3d57916",
   "metadata": {},
   "outputs": [
    {
     "name": "stdout",
     "output_type": "stream",
     "text": [
      "Schreib mir bitte etwas:ETWAS\n"
     ]
    },
    {
     "data": {
      "text/plain": [
       "'ETWAS'"
      ]
     },
     "execution_count": 18,
     "metadata": {},
     "output_type": "execute_result"
    }
   ],
   "source": [
    "input(\"Schreib mir bitte etwas:\")"
   ]
  },
  {
   "cell_type": "markdown",
   "id": "2b6b1dd2",
   "metadata": {},
   "source": [
    "Um die Eingabe zu speichern, brauchst Du eine Variable:"
   ]
  },
  {
   "cell_type": "code",
   "execution_count": 19,
   "id": "30121850",
   "metadata": {},
   "outputs": [
    {
     "name": "stdout",
     "output_type": "stream",
     "text": [
      "Schreib mir etwas:blablabla\n",
      "Danke. Du schriebst: blablabla\n"
     ]
    }
   ],
   "source": [
    "eingabe = input(\"Schreib mir etwas:\")\n",
    "print(f\"Danke. Du schriebst: {eingabe}\")"
   ]
  },
  {
   "cell_type": "markdown",
   "id": "85b361b0",
   "metadata": {},
   "source": [
    "Das Resultat der `input` Funktion ist immer ein String! Wenn Du also zum Beispiel eine ganze Zahl (int) oder eine Kommazahl (float) daraus machen willst, musst Du eine entsprechende Funktion anwenden:"
   ]
  },
  {
   "cell_type": "code",
   "execution_count": 21,
   "id": "1366b892",
   "metadata": {},
   "outputs": [
    {
     "name": "stdout",
     "output_type": "stream",
     "text": [
      "Deine Lieblingszahl?35\n",
      "Das Quadrat Deiner Lieblingszahl ist 1225\n",
      "Deine Lieblings-Kommazahl?34.6\n",
      "Die Hälfte Deiner Lieblings-Kommazahl ist 17.3\n"
     ]
    }
   ],
   "source": [
    "eingabe = input(\"Deine Lieblingszahl?\")\n",
    "lieblingszahl = int(eingabe)\n",
    "print(f\"Das Quadrat Deiner Lieblingszahl ist {lieblingszahl ** 2}\")\n",
    "\n",
    "eingabe2 = input(\"Deine Lieblings-Kommazahl?\")\n",
    "kommazahl = float(eingabe2)\n",
    "print(f\"Die Hälfte Deiner Lieblings-Kommazahl ist {kommazahl / 2}\")"
   ]
  },
  {
   "cell_type": "markdown",
   "id": "7d0a0ee3",
   "metadata": {},
   "source": [
    "Das Umwandeln in eine Zahl klappt nicht immer. Was passiert wenn der Benutzer Buchstaben eingibt? Das führt zu einem `ValueError`. Das kannst Du ausprobieren, indem Du die `int` Funktion mit einem Buchstaben-String fütterst:"
   ]
  },
  {
   "cell_type": "code",
   "execution_count": 23,
   "id": "e1be7108",
   "metadata": {},
   "outputs": [
    {
     "ename": "ValueError",
     "evalue": "invalid literal for int() with base 10: 'hundert'",
     "output_type": "error",
     "traceback": [
      "\u001b[0;31m---------------------------------------------------------------------------\u001b[0m",
      "\u001b[0;31mValueError\u001b[0m                                Traceback (most recent call last)",
      "Cell \u001b[0;32mIn[23], line 1\u001b[0m\n\u001b[0;32m----> 1\u001b[0m \u001b[38;5;28;43mint\u001b[39;49m\u001b[43m(\u001b[49m\u001b[38;5;124;43m\"\u001b[39;49m\u001b[38;5;124;43mhundert\u001b[39;49m\u001b[38;5;124;43m\"\u001b[39;49m\u001b[43m)\u001b[49m\n",
      "\u001b[0;31mValueError\u001b[0m: invalid literal for int() with base 10: 'hundert'"
     ]
    }
   ],
   "source": [
    "int(\"hundert\")"
   ]
  },
  {
   "cell_type": "code",
   "execution_count": null,
   "id": "cfc0e3f7",
   "metadata": {},
   "outputs": [],
   "source": []
  }
 ],
 "metadata": {
  "kernelspec": {
   "display_name": "Python 3 (ipykernel)",
   "language": "python",
   "name": "python3"
  },
  "language_info": {
   "codemirror_mode": {
    "name": "ipython",
    "version": 3
   },
   "file_extension": ".py",
   "mimetype": "text/x-python",
   "name": "python",
   "nbconvert_exporter": "python",
   "pygments_lexer": "ipython3",
   "version": "3.10.6"
  }
 },
 "nbformat": 4,
 "nbformat_minor": 5
}
