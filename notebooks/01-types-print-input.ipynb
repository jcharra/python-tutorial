{
 "cells": [
  {
   "cell_type": "markdown",
   "id": "0",
   "metadata": {},
   "source": [
    "# Python-Tutorial Teil 1"
   ]
  },
  {
   "cell_type": "markdown",
   "id": "1",
   "metadata": {},
   "source": [
    "Python ist eine Programmiersprache, die 1991 von Guido van Rossum entwickelt wurde. Sie ist relativ einfach zu lernen und zeichnet sich durch eine gut lesbare Schreibweise aus. [Mehr Infos auf Wikipedia](https://de.wikipedia.org/wiki/Python_(Programmiersprache))\n",
    "\n",
    "Trotz der Anfängerfreundlichkeit ist Python auch unter professionellen Entwicklern beliebt und wird z.B. im wissenschaftlichen Bereich (u.a. im Bereich der KI) sehr intensiv eingesetzt. Python war in den letzten Jahren stets eine der populärsten, wenn nicht sogar die populärste Programmiersprache der Welt, laut dem [TIOBE-Index](https://www.tiobe.com/tiobe-index/)\n",
    "\n",
    "Führe die folgende Zelle mit SHIFT + Enter aus:"
   ]
  },
  {
   "cell_type": "code",
   "execution_count": null,
   "id": "2",
   "metadata": {},
   "outputs": [],
   "source": [
    "print(\"Ich lerne jetzt 🐍Python🐍 ... endlich!!! 😁\")"
   ]
  },
  {
   "cell_type": "markdown",
   "id": "3",
   "metadata": {},
   "source": [
    "Du hast hier eine **Funktion** von Python verwendet, die sich `print` nennt. Damit kannst Du Text ausdrucken, aber auch beliebige andere Daten. Wir werden print nachher noch genauer betrachten. \n",
    "\n",
    "Für den Anfang merk' Dir: Du verwendest `print`, indem Du in **runden Klammern** `( ... )` dahinter schreibst, was Du ausgeben möchtest. Das werden wir im Folgenden ständig verwenden, um zu verstehen, wie Python die Dinge interpretiert."
   ]
  },
  {
   "cell_type": "markdown",
   "id": "4",
   "metadata": {},
   "source": [
    "#### Ausdrucksweise 👨🏻‍🏫📖\n",
    "\n",
    "Das \"Verwenden\" von Funktionen nennt man **Aufrufen**. Das was Du an die Funktion in Klammern übergibst sind die **Argumente**. Eine Funktion kann eines oder mehrere Argumente entgegennehmen, eventuell aber auch gar keine.\n",
    "\n",
    "Beispiel: \n",
    "\n",
    "```python\n",
    "print(\"Hallo zusammen! Bonjour tout le monde!\")\n",
    "```\n",
    "\n",
    "Das könntest Du beschreiben mit den Worten: *Ich rufe die Funktion print auf und übergebe einen String als Argument* (was ein String ist wird gleich erklärt)\n"
   ]
  },
  {
   "cell_type": "markdown",
   "id": "5",
   "metadata": {},
   "source": [
    "## Abschnitt 1: Datentypen\n",
    "\n",
    "Python arbeitet mit **Daten**, und jedes Daten-\"Ding\" ist ein **Objekt**. Und jedes solche Objekt hat einen **Typ**. Der Typ eines Objekts beschreibt, was für eine Art von Objekt es ist bzw. zu welcher \"Kategorie\" das Objekt gehört. \n",
    "\n",
    "Im folgenden werden einige grundlegende Typen vorgestellt.\n",
    "\n",
    "### Datentyp \"int\" (integer)\n",
    "\n",
    "Wenn Python zum Beispiel mit der Zahl `150` arbeitet, dann ist das ein Objekt vom Typ `int`. \n",
    "\n",
    "Das Wort **int** ist eine Kurzform des englischen Begriffs **integer**, was \"Ganzzahl\" bedeutet. Ganze Zahlen sind bekanntlich 0, 1, 2, 3, 4, 5, etc. aber auch negative Zahlen wie -1, -2, -3 etc.\n",
    "\n",
    "Um den Typ eines Objekts zu ermitteln, gibt es die Funktion `type`:"
   ]
  },
  {
   "cell_type": "code",
   "execution_count": null,
   "id": "6",
   "metadata": {},
   "outputs": [],
   "source": [
    "type(150)"
   ]
  },
  {
   "cell_type": "markdown",
   "id": "7",
   "metadata": {},
   "source": [
    "Mit Ganzzahlen (also `int`s) kann man in Python rechnen wie aus dem Matheunterricht gewohnt. Man muss nur wissen, wie man die jeweiligen mathematischen Operationen schreibt. Führe folgende Zelle aus, um die arithmetischen Operationen auszuwerten:"
   ]
  },
  {
   "cell_type": "code",
   "execution_count": null,
   "id": "8",
   "metadata": {},
   "outputs": [],
   "source": [
    "# Addition\n",
    "print(50 + 50)\n",
    "\n",
    "# Subtraktion\n",
    "print(10 - 20)\n",
    "\n",
    "# Multiplikation mit Sternchen (nicht mit \"x\")\n",
    "print(40 * 50)\n",
    "\n",
    "# Division mit Schrägstrich/Slash (nicht mit \":\")\n",
    "print(200 / 50)"
   ]
  },
  {
   "cell_type": "markdown",
   "id": "9",
   "metadata": {},
   "source": [
    "### Datentyp \"float\" (floating point number)\n",
    "\n",
    "Vielleicht ist Dir aufgefallen, dass bei der Division eine Kommazahl herauskam. Das ist bei der Division immer so, auch wenn `4.0` theoretisch eine Ganzzahl ist. Was für einen Typ hat `4.0` aber in Python? Lass es uns mit der `type`-Funktion herausfinden:"
   ]
  },
  {
   "cell_type": "code",
   "execution_count": null,
   "id": "10",
   "metadata": {},
   "outputs": [],
   "source": [
    "type(4.0)"
   ]
  },
  {
   "cell_type": "markdown",
   "id": "11",
   "metadata": {},
   "source": [
    "Oha ... ein neuer Datentyp. `float` steht für **floating point number** (Fließkommazahl), was sehr kompliziert klingt. Das liegt daran, dass dieser Datentyp \"im Inneren\" von Python ziemlich kompliziert gebaut ist (in allen anderen Programmiersprachen übrigens auch). \n",
    "\n",
    "Das braucht uns aber zum Glück (vorerst) nicht zu interessieren. Im Grunde ist `float` nur der Datentyp für **Kommazahlen**. Wenn Du also `float` liest, denk einfach an \"Kommazahl\". \n",
    "\n",
    "⚠️**Ach ja, ganz wichtig**⚠️ Kommazahlen haben in Programmiersprachen eigentlich nie ein Komma, sondern stattdessen einen **Punkt** `.` Das Komma wird von Python als Trennzeichen interpretiert, also bitte nicht für Zahlen verwenden."
   ]
  },
  {
   "cell_type": "markdown",
   "id": "12",
   "metadata": {},
   "source": [
    "### Datentyp \"bool\" (boolean)\n",
    "\n",
    "Unser nächster Datentyp ist `bool`, was wiederum eine Kurzform ist, es steht nämlich für \"boolean\", benannt nach [George Boole](https://de.wikipedia.org/wiki/George_Boole). Auf deutsch spricht man von \"boole'schen Werten\".\n",
    "\n",
    "Dieser Datentyp ist so ziemlich das Einfachste, was man sich vorstellen kann, denn er hat nur zwei mögliche Werte: **True** (wahr) und **False** (falsch).\n",
    "\n",
    "Dennoch sind `bool`s extrem wichtig, wenn es in einem Programm um Entscheidungen geht. Ist eine Bedingung X erfüllt? Ist ein bestimmter Wert zu groß oder zu klein? Immer wenn man solche \"Ja oder Nein\"-Entscheidungen trifft, sind booleans im Spiel.\n",
    "\n",
    "Bevor Du die folgende Zelle ausführst, überlege Dir welche Resultate Du für jeden der `print`-Aufrufe erwartest. \n",
    "\n",
    "Frage Dich: Ist das was in der Klammer steht *richtig*? Dann müsste `True` ausgegeben werden, andernfalls `False`."
   ]
  },
  {
   "cell_type": "code",
   "execution_count": null,
   "id": "13",
   "metadata": {},
   "outputs": [],
   "source": [
    "print(True)           # Man kann die Werte True und False auch direkt verwenden\n",
    "print(False)\n",
    "print(5 > 10)         # Ist 5 größer als 10?\n",
    "print(1 < 100)\n",
    "print(1 + 1 == 2)     # Mit == prüfst Du ob zwei Objekte gleich sind\n",
    "print(100 != 200)     # Mit != prüfst Du ob zwei Objekte ungleich sind\n",
    "print(10 != 10)\n",
    "print(10 + 10 > 20)   # Python wird hier die linke Seite zuerst ausrechnen und dann vergleichen\n",
    "print(5 >= 5)         # >= bedeutet \"größer oder gleich\"\n",
    "print(-1 <= -1)       # <= bedeutet \"kleiner oder gleich\""
   ]
  },
  {
   "cell_type": "markdown",
   "id": "14",
   "metadata": {},
   "source": [
    "#### Kommentare 📝\n",
    "\n",
    "Du hast vielleicht die `#`-Zeichen in manchen Code-Zellen bemerkt. Das sind **Kommentare**, die von Python ignoriert werden. Du kannst sie in Deinem Code ebenfalls verwenden, um Dir Ideen/Gedanken in den Code zu schreiben. Alles hinter dem `#` wird von Python nicht mehr interpretiert."
   ]
  },
  {
   "cell_type": "markdown",
   "id": "15",
   "metadata": {},
   "source": [
    "Wir geben uns noch den Typ eines booleans aus:"
   ]
  },
  {
   "cell_type": "code",
   "execution_count": null,
   "id": "16",
   "metadata": {},
   "outputs": [],
   "source": [
    "type(True)"
   ]
  },
  {
   "cell_type": "markdown",
   "id": "17",
   "metadata": {},
   "source": [
    "#### Pssst ... Spezialwissen 🤓\n",
    "\n",
    "Ein `bool` ist insgeheim nur ein `int`, denn der Wert `False` ist das gleiche wie der Wert `0` und der Wert `True` ist das gleiche wie der Wert `1`.\n",
    "\n",
    "Glaubst Du nicht? Probier mal folgendes aus:"
   ]
  },
  {
   "cell_type": "code",
   "execution_count": null,
   "id": "18",
   "metadata": {},
   "outputs": [],
   "source": [
    "print(10 + 20 + True - 5 * False)\n",
    "print(100 * False)\n",
    "print(True == 1)\n",
    "print(False == 0)   # False ist 0, daher ist das Ergebnis des Vergleichs True 🤪"
   ]
  },
  {
   "cell_type": "markdown",
   "id": "19",
   "metadata": {},
   "source": [
    "### Datentyp \"str\" (String / Zeichenkette)\n",
    "\n",
    "Ein **String** ist eine Zeichenkette, also eine Aneinanderreihung von Zeichen. Strings dürfen nie ohne Anführungszeichen geschrieben werden, sonst versucht Python sie auszuwerten:"
   ]
  },
  {
   "cell_type": "code",
   "execution_count": null,
   "id": "20",
   "metadata": {},
   "outputs": [],
   "source": [
    "print(5+5)    # wird ausgewertet\n",
    "print(\"5+5\")  # wird von Python \"in Ruhe gelassen\" bzw. als Text interpretiert."
   ]
  },
  {
   "cell_type": "markdown",
   "id": "21",
   "metadata": {},
   "source": [
    "Du kannst Strings mit einfachen oder doppelten Hochkommas schreiben. Wenn ein String über mehrere Zeilen gehen soll, verwende dreifache Hochkommas (einfache oder doppelte 😵‍💫):"
   ]
  },
  {
   "cell_type": "code",
   "execution_count": null,
   "id": "22",
   "metadata": {},
   "outputs": [],
   "source": [
    "print(\"Ein String mit doppelten Hochkommas\")\n",
    "print('Ein String mit einfachen Hochkommas')\n",
    "print(\"\"\"Ein String mit dreifachen doppelten Hochkommas. Er kann\n",
    "sogar in der nächsten Zeile weitergehen.\n",
    "Und auch in der folgenden Zeile ...\"\"\")\n",
    "print('''Ein String mit dreifachen einfachen Hochkommas. Funktioniert genau \n",
    "so wie das Beispiel darüber ...\n",
    "kann also über beliebig viele Zeilen gehen ...''')"
   ]
  },
  {
   "cell_type": "markdown",
   "id": "23",
   "metadata": {},
   "source": [
    "Mehrere Strings kann man mit `+` aneinanderhängen (*konkatenieren*):"
   ]
  },
  {
   "cell_type": "code",
   "execution_count": null,
   "id": "24",
   "metadata": {},
   "outputs": [],
   "source": [
    "print(\"Ich \" + \"finde \" + \"Strings \" + \"super\")"
   ]
  },
  {
   "cell_type": "markdown",
   "id": "25",
   "metadata": {},
   "source": [
    "Mit dem `*`-Operator kann man Strings vervielfachen:"
   ]
  },
  {
   "cell_type": "code",
   "execution_count": null,
   "id": "26",
   "metadata": {},
   "outputs": [],
   "source": [
    "print(\"Python rocks! 🤩💪 \" * 50)"
   ]
  },
  {
   "cell_type": "markdown",
   "id": "27",
   "metadata": {},
   "source": [
    "Mit der `len`-Funktion kann man die Länge eines Strings berechnen:"
   ]
  },
  {
   "cell_type": "code",
   "execution_count": null,
   "id": "28",
   "metadata": {},
   "outputs": [],
   "source": [
    "len(\"Rindfleischetikettierungsüberwachungsaufgabenübertragungsgesetz\")"
   ]
  },
  {
   "cell_type": "markdown",
   "id": "29",
   "metadata": {},
   "source": [
    "#### f-Strings\n",
    "\n",
    "Eine Spezialform von Strings, die sehr nützlich ist, sind die `f-Strings` (formatierte Strings), die man einfach verwendet, indem man vor das Hochkomma zu Beginn ein `f` schreibt. Das bewirkt, dass man im \"Inneren\" des Strings mit Hilfe von **geschweiften Klammern** `{ ... }` Dinge einbauen kann, die dann *eben doch* von Python interpretiert werden:"
   ]
  },
  {
   "cell_type": "code",
   "execution_count": null,
   "id": "30",
   "metadata": {},
   "outputs": [],
   "source": [
    "print(f\"5 mal 7 Euro macht {5 * 7} Euro\")"
   ]
  },
  {
   "cell_type": "markdown",
   "id": "31",
   "metadata": {},
   "source": [
    "Der Typ eines Strings ist `str`:"
   ]
  },
  {
   "cell_type": "code",
   "execution_count": null,
   "id": "32",
   "metadata": {},
   "outputs": [],
   "source": [
    "type(\"Python\")"
   ]
  },
  {
   "cell_type": "markdown",
   "id": "33",
   "metadata": {},
   "source": [
    "#### Typen umwandeln\n",
    "\n",
    "Manchmal möchte man einen Wert von einem Typ in den anderen konvertieren. Dazu gibt es für die bisher behandelten Typen gleichnamige Funktionen `int`, `float`, `bool` und `str`."
   ]
  },
  {
   "cell_type": "code",
   "execution_count": null,
   "id": "34",
   "metadata": {},
   "outputs": [],
   "source": [
    "print(int(\"200\"))      # das wird zum int 200\n",
    "print(float(\"3.1415\")) # das wird zum float 3.1415\n",
    "print(str(42))         # das wird zum String \"42\"\n",
    "print(int(3.1415))     # das wird zum int 3 (Nachkommastellen werden einfach entfernt)"
   ]
  },
  {
   "cell_type": "markdown",
   "id": "35",
   "metadata": {},
   "source": [
    "Aber Achtung, das kann schief gehen:"
   ]
  },
  {
   "cell_type": "code",
   "execution_count": null,
   "id": "36",
   "metadata": {},
   "outputs": [],
   "source": [
    "int(\"Python\")  # Das soll eine Zahl sein?!"
   ]
  },
  {
   "cell_type": "markdown",
   "id": "37",
   "metadata": {},
   "source": [
    "Keine Sorge, es ist nichts kaputt gegangen, so sehen Fehlermeldungen in Python immer aus. Kleiner Tipp vorweg: Schau bei **Errors**, also Fehlermeldungen immer auf die *letzte Zeile* der Meldung. Dort steht fast immer ein guter Hinweis, was genau schief gelaufen ist.\n",
    "\n",
    "So auch hier: Die letzte Zeile sagt Dir, dass Du der `int()` Funktion einen ungültigen (*invalid*) String-Wert (*literal*) gegeben hast. Solche Fehler zu erkennen und ihre Ursache zu verstehen wird beim Erlernen von Python leider noch sehr oft notwendig sein. 😅"
   ]
  },
  {
   "cell_type": "markdown",
   "id": "38",
   "metadata": {},
   "source": [
    "Eine Typ-Konvertierung fehlt noch, nämlich die zu `bool` ... das ist etwas speziell."
   ]
  },
  {
   "cell_type": "code",
   "execution_count": null,
   "id": "39",
   "metadata": {},
   "outputs": [],
   "source": [
    "print(bool(\"Hallo\"))   # Was kommt hier wohl raus?"
   ]
  },
  {
   "cell_type": "markdown",
   "id": "40",
   "metadata": {},
   "source": [
    "Nanu, warum soll `\"Hallo\"` denn bitte \"wahr\" sein? Die Erklärung ist simpel: In Python wird **so ziemlich alles** zu `True`, wenn man es in einen boolean umwandelt. Es gibt nur ein paar wenige Ausnahmen, die hier einmal ausgegeben werden:"
   ]
  },
  {
   "cell_type": "code",
   "execution_count": null,
   "id": "41",
   "metadata": {},
   "outputs": [],
   "source": [
    "print(bool(0))\n",
    "print(bool(0.0))\n",
    "print(bool(\"\"))\n",
    "\n",
    "# Ab hier kennst Du die Typen noch nicht ... kommt später\n",
    "print(bool(None))   # (das leere Objekt)\n",
    "print(bool([]))     # (eine leere Liste)\n",
    "print(bool({}))     # (ein leeres Wörterbuch)\n",
    "print(bool(()))     # (ein leeres Tupel)"
   ]
  },
  {
   "cell_type": "markdown",
   "id": "42",
   "metadata": {},
   "source": [
    "Erkennst Du das Muster dahinter? Alles was irgendwie \"leer\" ist oder Null, oder Nichts (`None`), wird als `False` interpretiert. **Alles andere als `True`.**"
   ]
  },
  {
   "cell_type": "markdown",
   "id": "43",
   "metadata": {},
   "source": [
    "<div class=\"alert alert-block alert-info\">\n",
    "    \n",
    "### Zusammenfassung Abschnitt 1\n",
    "\n",
    "Was Du gelernt hast ...\n",
    "    \n",
    "- die Datentypen `int` (Ganzzahl), `float` (Kommazahl), `bool` (Wahrheitswert) und `str` (String) \n",
    "- Vergleichs- und arithmetische Operatoren \n",
    "- die `type`-Funktion\n",
    "- das Konvertieren von Werten in die bisher bekannten Typen\n",
    "    \n",
    "</div>"
   ]
  },
  {
   "cell_type": "markdown",
   "id": "44",
   "metadata": {},
   "source": [
    "## Abschnitt 2: Namen / Variablen\n",
    "\n",
    "### Namen zuweisen\n",
    "\n",
    "Um Daten zu speichern kann man ihnen **Namen** zuweisen. Man spricht auch von **Variablen**.\n",
    "\n",
    "Um beispielsweise unter dem Namen `a` den Wert `1` zu speichern und unter dem Namen `b` den Wert `2`, macht man Folgendes:\n",
    "\n",
    "```python\n",
    "a = 1\n",
    "b = 2\n",
    "```\n",
    "\n",
    "Beachte, dass für die **Zuweisung** ein **einfaches Gleichzeichen** verwendet wird. Weiter oben haben wir ein **doppeltes Gleichzeichen** für den Vergleich zweier Objekte verwendet.\n",
    "\n",
    "Der Python-Interpreter verwendet zum Speichern von Namen so etwas wie eine zweispaltige Liste, die nach den beiden Zuweisungen in etwa so aussieht:\n",
    "   \n",
    "|Name|Objekt|\n",
    "|:--------:|:--------:|\n",
    "|a|1|\n",
    "|b|2|\n",
    "|...|...|\n",
    "    \n",
    "Immer wenn ein Name im Code verwendet wird, schaut Python in seiner Liste nach und holt den zugehörigen Wert:\n",
    "\n"
   ]
  },
  {
   "cell_type": "code",
   "execution_count": null,
   "id": "45",
   "metadata": {},
   "outputs": [],
   "source": [
    "a = 100\n",
    "print(a)"
   ]
  },
  {
   "cell_type": "markdown",
   "id": "46",
   "metadata": {},
   "source": [
    "Was aber passiert, wenn der Name in der Liste nicht gefunden wird?"
   ]
  },
  {
   "cell_type": "code",
   "execution_count": null,
   "id": "47",
   "metadata": {},
   "outputs": [],
   "source": [
    "print(x)    # Das geht schief ... 🙈"
   ]
  },
  {
   "cell_type": "markdown",
   "id": "48",
   "metadata": {},
   "source": [
    "Auch hier schauen wir wieder in die letzte Zeile der Fehlermeldung:\n",
    "\n",
    "**NameError** weist auf einen Fehler hin, der mit einem Namen zu tun hat. Und `name 'x' is not defined` ist auch relativ klar: Der Name `x` ist *nicht definiert*, also nicht in der Namensliste enthalten."
   ]
  },
  {
   "cell_type": "markdown",
   "id": "49",
   "metadata": {},
   "source": [
    "### Namen neu zuweisen\n",
    "\n",
    "Wenn Du einem Namen einen neuen Wert zuweisen willst, kannst Du das einfach mit einer erneuten Zuweisung tun:\n",
    "    \n",
    "`a = 100`\n",
    "\n",
    "Jetzt hat der Name `a` einen neuen Wert und der Alte ist überschrieben:\n",
    "    \n",
    "    \n",
    "|Name|Objekt|\n",
    "|:--------:|:--------:|\n",
    "|a|100|\n",
    "|b|2|\n",
    "|...|...|\n",
    "   \n",
    "Im Gegensatz zu anderen Programmiersprachen legst Du Namen in Python *nicht mit einem festen Typ* an, das heißt Du bist nach der Zuweisung `a = 100` nicht verpflichtet, den Namen `a` später nur für Zahlen zu verwenden."
   ]
  },
  {
   "cell_type": "code",
   "execution_count": null,
   "id": "50",
   "metadata": {},
   "outputs": [],
   "source": [
    "a = 100\n",
    "print(a)\n",
    "a = \"Hallo\"\n",
    "print(a)\n",
    "a = True\n",
    "print(a)"
   ]
  },
  {
   "cell_type": "markdown",
   "id": "51",
   "metadata": {},
   "source": [
    "Dennoch ist es ratsam (um sich selbst nicht zu verwirren und Fehler zu vermeiden) für die selbe Variable immer den gleichen Typ zu verwenden.\n",
    "\n",
    "#### Erlaubte Namen\n",
    "\n",
    "Namen dürfen beliebig lang sein, aber Du darfst nur Buchstaben (groß und klein), Ziffern und Unterstriche `_` für Deine Namen verwenden. Außerdem dürfen sie nicht mit einer Ziffer beginnen!"
   ]
  },
  {
   "cell_type": "code",
   "execution_count": null,
   "id": "52",
   "metadata": {},
   "outputs": [],
   "source": [
    "# Gültige Namen: 👍🏻\n",
    "meine_lieblingszahl = 42\n",
    "_ein_string_ = \"Hallo\"\n",
    "pi31415 = 3.1415\n",
    "EULERSCHE_ZAHL = 2.71828\n",
    "\n",
    "# Ungültige Namen: 👎🏻\n",
    "# 1superVariable = 5\n",
    "# meine-variable = 10 \n",
    "# variable mit leerzeichen = \"moin\""
   ]
  },
  {
   "cell_type": "markdown",
   "id": "53",
   "metadata": {},
   "source": [
    "#### Keywords\n",
    "\n",
    "Python hat einige reservierte Begriffe, so genannte **keywords**. Diese kannst Du **nicht als Namen** verwenden.\n",
    "\n",
    "Du kannst Dir die keywords folgendermaßen ausgeben lassen:"
   ]
  },
  {
   "cell_type": "code",
   "execution_count": null,
   "id": "54",
   "metadata": {},
   "outputs": [],
   "source": [
    "import keyword\n",
    "print(keyword.kwlist)"
   ]
  },
  {
   "cell_type": "markdown",
   "id": "55",
   "metadata": {},
   "source": [
    "Du musst diese keywords natürlich noch nicht alle verstehen, aber falls Du jemals eines davon als Namen verwenden möchtest wirst Du einen Fehler erhalten. Zum Beispiel beim Ausführen der folgenden Zelle:"
   ]
  },
  {
   "cell_type": "code",
   "execution_count": null,
   "id": "56",
   "metadata": {},
   "outputs": [],
   "source": [
    "for = 4"
   ]
  },
  {
   "cell_type": "markdown",
   "id": "57",
   "metadata": {},
   "source": [
    "#### Einen Wert erhöhen / verringern\n",
    "\n",
    "Oft will man den Wert hinter einem Namen *um eine bestimmte Differenz* ändern. Das geht ganz einfach, indem man den Namen auch auf der rechten Seite der Zuweisung verwendet:"
   ]
  },
  {
   "cell_type": "code",
   "execution_count": null,
   "id": "58",
   "metadata": {},
   "outputs": [],
   "source": [
    "a = 10\n",
    "print(a)\n",
    "a = a + 50  # aktueller Wert plus 50\n",
    "print(a)"
   ]
  },
  {
   "cell_type": "markdown",
   "id": "59",
   "metadata": {},
   "source": [
    "Da das eine geläufige Operation ist, gibt es dafür eine Kurzfassung:"
   ]
  },
  {
   "cell_type": "code",
   "execution_count": null,
   "id": "60",
   "metadata": {},
   "outputs": [],
   "source": [
    "a = 10\n",
    "print(a)\n",
    "a += 50    # erhöht den aktuellen Wert von a um 50\n",
    "print(a)"
   ]
  },
  {
   "cell_type": "markdown",
   "id": "61",
   "metadata": {},
   "source": [
    "Für viele Operatoren gibt es eine ganz ähnliche Kurzform:"
   ]
  },
  {
   "cell_type": "code",
   "execution_count": null,
   "id": "62",
   "metadata": {},
   "outputs": [],
   "source": [
    "a = 10\n",
    "print(a)\n",
    "a += 20  \n",
    "print(a)\n",
    "a -= 10\n",
    "print(a)\n",
    "a *= 10\n",
    "print(a)\n",
    "a /= 5\n",
    "print(a)"
   ]
  },
  {
   "cell_type": "markdown",
   "id": "63",
   "metadata": {},
   "source": [
    "**Das klappt für die Operatoren `+` und `*` übrigens auch bei Strings:**"
   ]
  },
  {
   "cell_type": "code",
   "execution_count": null,
   "id": "64",
   "metadata": {},
   "outputs": [],
   "source": [
    "s = \"Grüß Dich!\"\n",
    "print(s)\n",
    "s += \" Wie geht's? \"\n",
    "print(s)\n",
    "s *= 3\n",
    "print(s)"
   ]
  },
  {
   "cell_type": "markdown",
   "id": "65",
   "metadata": {},
   "source": [
    "<div class=\"alert alert-block alert-info\">\n",
    "    \n",
    "### Zusammenfassung Abschnitt 2\n",
    "\n",
    "Was Du gelernt hast ...\n",
    "    \n",
    "- wie man einem Namen einen Wert zuweist, welche Namen erlaubt sind und welche keywords reserviert sind\n",
    "- wie man einen Wert relativ zum aktuellen Wert verändert\n",
    "    \n",
    "</div>"
   ]
  },
  {
   "cell_type": "markdown",
   "id": "66",
   "metadata": {},
   "source": [
    "## Abschnitt 3: print im Detail & Benutzereingabe\n",
    "\n",
    "Die Funktion `print` haben wir jetzt schon oft verwendet, allerdings nur in ihrer einfachsten Form. \n",
    "\n",
    "Hier noch ein paar Dinge, die Du bisher (vermutlich) noch nicht über `print` wusstest:\n",
    "\n",
    "#### Mehrere Objekte ausgeben\n",
    "\n",
    "Du kannst beliebig viele Objekte an `print` übergeben, wenn Du sie **mit einem Komma** trennst. Das klappt übrigens mit *allen* Objekttypen in Python."
   ]
  },
  {
   "cell_type": "code",
   "execution_count": null,
   "id": "67",
   "metadata": {},
   "outputs": [],
   "source": [
    "# Siehst Du, wie viele Argumente hier übergeben werden? Die Kommas sind entscheidend!\n",
    "print(\"Ein String\", 100, 1 + 1, 3.5 * 20, \"und noch ein String\")"
   ]
  },
  {
   "cell_type": "markdown",
   "id": "68",
   "metadata": {},
   "source": [
    "#### Trennzeichen ändern\n",
    "\n",
    "In der Ausgabe siehst Du, dass zwischen allen Objekten ein Leerzeichen entstanden ist. Das ist das Standard- bzw. *Default*-Trennzeichen von `print`. \n",
    "\n",
    "Das kannst Du jedoch auch selbst bestimmen, indem Du als letztes Argument `sep=...` übergibst. `sep` steht für *separator*, was eben das Trennzeichen meint.\n",
    "\n",
    "**Beachte:** Dass man \"sep=\" voranstellt ist notwendig, damit Python das Trennzeichen von den \"normalen\" Strings unterscheiden kann."
   ]
  },
  {
   "cell_type": "code",
   "execution_count": null,
   "id": "69",
   "metadata": {},
   "outputs": [],
   "source": [
    "print(\"Das\", \"ist\", \"ein\", \"Satz\", \"mit\", \"vielen\", \"Strings\", sep=\"-\")\n",
    "print(\"Das\", \"ist\", \"ein\", \"Satz\", \"mit\", \"vielen\", \"Strings\", sep=\"*****\")\n",
    "print(\"Das\", \"ist\", \"ein\", \"Satz\", \"mit\", \"vielen\", \"Strings\", sep=\"!!\")\n",
    "print(\"Das\", \"ist\", \"ein\", \"Satz\", \"mit\", \"vielen\", \"Strings\", sep=\"\") # klebt alle Strings direkt aneinander"
   ]
  },
  {
   "cell_type": "markdown",
   "id": "70",
   "metadata": {},
   "source": [
    "#### Zeilenabschluss ändern\n",
    "\n",
    "Wenn Du mehrere print-Befehle verwendest, wird jede Zeile standardmäßig mit einem Zeilenumbruch abgeschlossen (den man in einem String übrigens so schreibt: `\\n`). \n",
    "\n",
    "Auch das kannst Du ändern. Verwende dazu den Parameter `end`:"
   ]
  },
  {
   "cell_type": "code",
   "execution_count": null,
   "id": "71",
   "metadata": {},
   "outputs": [],
   "source": [
    "# Standard-Print\n",
    "print(\"Zeile 1\")\n",
    "print(\"Zeile 2\")\n",
    "print(\"Zeile 3\")\n",
    "\n",
    "# Mit geändertem end-Zeichen\n",
    "print(\"Zeile 1 ohne Umbruch\", end=\".\")\n",
    "print(\"Zeile 2 ohne Umbruch\", end=\"?\")\n",
    "print(\"Zeile 3 ohne Umbruch\", end=\"!\")"
   ]
  },
  {
   "cell_type": "markdown",
   "id": "72",
   "metadata": {},
   "source": [
    "Du kannst `sep` und `end` auch gleichzeitig verwenden, aber beachte: Die beiden müssen (in beliebiger Reihenfolge) ganz zum Schluss der Argumente kommen!"
   ]
  },
  {
   "cell_type": "code",
   "execution_count": null,
   "id": "73",
   "metadata": {},
   "outputs": [],
   "source": [
    "print(\"Das ist\", \"ein Text\", \"mit vielen Pausen\", sep=\"...\", end=\"!\")\n",
    "print(\"aber dennoch\", \"vollständig\", \"in einer Zeile\", end=\"!!!\", sep=\"...\")"
   ]
  },
  {
   "cell_type": "markdown",
   "id": "74",
   "metadata": {},
   "source": [
    "#### Benutzereingabe mit `input`\n",
    "\n",
    "Mit Hilfe der `input` Funktion kannst Du den Benutzer um eine Eingabe bitten:"
   ]
  },
  {
   "cell_type": "code",
   "execution_count": null,
   "id": "75",
   "metadata": {},
   "outputs": [],
   "source": [
    "input(\"Schreib mir bitte etwas:\")"
   ]
  },
  {
   "cell_type": "markdown",
   "id": "76",
   "metadata": {},
   "source": [
    "Um die Eingabe zu speichern, brauchst Du eine Variable:"
   ]
  },
  {
   "cell_type": "code",
   "execution_count": null,
   "id": "77",
   "metadata": {},
   "outputs": [],
   "source": [
    "eingabe = input(\"Schreib mir etwas:\")\n",
    "print(f\"Danke. Du schriebst: {eingabe}\")"
   ]
  },
  {
   "cell_type": "markdown",
   "id": "78",
   "metadata": {},
   "source": [
    "**Achtung:** Das Resultat der `input` Funktion ist immer vom Typ `str`, also ein String! Wenn Du daher zum Beispiel einen `int` oder einen `float` daraus machen willst, musst Du eine entsprechende Konvertierung anwenden:"
   ]
  },
  {
   "cell_type": "code",
   "execution_count": null,
   "id": "79",
   "metadata": {},
   "outputs": [],
   "source": [
    "eingabe = input(\"Deine Lieblingszahl?\")\n",
    "lieblingszahl = int(eingabe)\n",
    "print(f\"Das Quadrat Deiner Lieblingszahl ist {lieblingszahl ** 2}\")\n",
    "\n",
    "eingabe2 = input(\"Deine Lieblings-Kommazahl?\")\n",
    "kommazahl = float(eingabe2)\n",
    "print(f\"Die Hälfte Deiner Lieblings-Kommazahl ist {kommazahl / 2}\")"
   ]
  },
  {
   "cell_type": "markdown",
   "id": "80",
   "metadata": {},
   "source": [
    "<div class=\"alert alert-block alert-info\">\n",
    "    \n",
    "### Zusammenfassung Abschnitt 3\n",
    "\n",
    "Was Du gelernt hast ...\n",
    "    \n",
    "- wie vielseitig `print` ist\n",
    "- wie man Benutzereingaben erfassen, konvertieren und verarbeiten kann\n",
    "    \n",
    "</div>"
   ]
  }
 ],
 "metadata": {
  "kernelspec": {
   "display_name": ".venv",
   "language": "python",
   "name": "python3"
  },
  "language_info": {
   "codemirror_mode": {
    "name": "ipython",
    "version": 3
   },
   "file_extension": ".py",
   "mimetype": "text/x-python",
   "name": "python",
   "nbconvert_exporter": "python",
   "pygments_lexer": "ipython3",
   "version": "3.13.5"
  }
 },
 "nbformat": 4,
 "nbformat_minor": 5
}
