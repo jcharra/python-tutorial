{
 "cells": [
  {
   "cell_type": "markdown",
   "id": "355feb3e",
   "metadata": {},
   "source": [
    "# Python-Tutorial Teil 2\n",
    "\n",
    "In diesem Teil geht es darum, mit Hilfe von **Schleifen** zu verhindern, dass der gleiche oder sehr ähnlicher Code mehrfach geschrieben werden muss.\n",
    "\n",
    "In Python gibt es zwei Formen einer Schleife: Die **while**-Schleife und die **for**-Schleife."
   ]
  },
  {
   "cell_type": "markdown",
   "id": "736f0e21",
   "metadata": {},
   "source": [
    "## Abschnitt 1: while-Schleifen\n",
    "\n",
    "In Teil 1 haben wir den Datentyp `bool` kennengelernt. Er spielt bei der `while`-Schleife eine prominente Rolle, denn ob die Schleife ein weiteres mal durchlaufen wird, wird nach jedem Durchgang über einen boole'schen Wert entschieden.\n",
    "\n",
    "Hier ist ein einfaches Beispiel einer `while`-Schleife"
   ]
  },
  {
   "cell_type": "code",
   "execution_count": 1,
   "id": "024b14ca",
   "metadata": {},
   "outputs": [
    {
     "name": "stdout",
     "output_type": "stream",
     "text": [
      "a ist 10\n",
      "a ist 9\n",
      "a ist 8\n",
      "a ist 7\n",
      "a ist 6\n",
      "a ist 5\n",
      "a ist 4\n",
      "a ist 3\n",
      "a ist 2\n",
      "a ist 1\n",
      "Das war's\n"
     ]
    }
   ],
   "source": [
    "a = 10\n",
    "while a > 0:\n",
    "  print(\"a ist\", a)\n",
    "  a -= 1\n",
    "print(\"Das war's\")"
   ]
  },
  {
   "cell_type": "markdown",
   "id": "162e24e0",
   "metadata": {},
   "source": [
    "Bevor wir die einzelnen Zeilen durchgehen, beachte bitte die **Einrückung** des Codes. Die beiden Zeilen unterhalb von `while` stehen **weiter rechts** als die `while`-Zeile selbst. \n",
    "\n",
    "Das ist so gewollt und sogar **zwingend notwendig**: Python erkennt an der Einrückung, wo ein neuer Abschnitt beginnt und wo er endet. Ohne die Einrückung wäre es unmöglich zu erkennen, ob das `print` am Ende noch zu der Schleife dazugehört oder nicht.\n",
    "\n",
    "So wie es ist sieht man sofort mit bloßem Auge, dass die Zeilen 3 und 4 einen zusammengehörigen Codeblock bilden.\n",
    "\n",
    "Diese Form der Einrückung (engl. *indentation*) wird uns noch sehr oft begegnen.\n",
    "\n",
    "Nun aber zum Code selbst:\n",
    "\n",
    "- Zeile 1 speichert den integer-Wert `10` unter dem Namen `a`\n",
    "- Zeile 2 sagt: Da der Wert von `a` größer als `0` ist, hat der Ausdruck `a > 0` den boole'schen Wert `True`. Also wird der Inhalt der Schleife ausgeführt. \n",
    "- Zeile 3 gibt den Wert von `a` aus\n",
    "- Zeile 4 *verringert* den Wert von `a` um 1 (erinnere Dich: `a -= 1` ist das gleiche wie `a = a - 1`)\n",
    "- Da Zeile 5 **wieder nach links eingerückt** ist, merkt Python, dass es jetzt wieder nach oben in Zeile 2 springen muss, denn man befindet sich ja in einer `while`-Schleife.\n",
    "- Wieder in Zeile 2 angekommen, prüft Python also erneut ob `a > 0` zu dem boole'schen Wert `True` ausgewertet wird. `a` ist inzwischen `9`, also immer noch größer als `0`.\n",
    "  Die Schleife wird daher erneut ausgeführt\n",
    "- ...\n",
    "- Nach 10 Durchläufen der Schleife ist der Wert von `a` auf `0` herabgesetzt worden. In Zeile 2 wird nun also geprüft ob `0 > 0`. Das ergibt `False`, die Schleife wird somit kein weiteres mal ausgeführt.\n",
    "- Zeile 5 wird nun ausgeführt."
   ]
  },
  {
   "cell_type": "markdown",
   "id": "aed1d4ba",
   "metadata": {},
   "source": [
    "<div class=\"alert alert-block alert-info\">\n",
    "    \n",
    "### Zusammenfassung Abschnitt 1\n",
    "\n",
    "Was Du gelernt hast ...\n",
    "    \n",
    "- \n",
    "\n",
    "</div>"
   ]
  },
  {
   "cell_type": "markdown",
   "id": "acc060dd",
   "metadata": {},
   "source": [
    "## Abschnitt 2: Die Funktion range\n",
    "\n",
    "### Namen zuweisen\n",
    "\n",
    "Um Daten zu speichern kann man ihnen **Namen** zuweisen. Man spricht auch von **Variablen**.\n",
    "\n",
    "Um beispielsweise unter dem Namen `a` den Wert `1` zu speichern und unter dem Namen `b` den Wert `2`, macht man Folgendes:\n",
    "\n",
    "```python\n",
    "a = 1\n",
    "b = 2\n",
    "```\n",
    "\n",
    "Beachte, dass für die **Zuweisung** ein **einfaches Gleichzeichen** verwendet wird. Weiter oben haben wir ein **doppeltes Gleichzeichen** für den Vergleich zweier Objekte verwendet.\n",
    "\n",
    "Der Python-Interpreter verwendet zum Speichern von Namen so etwas wie eine zweispaltige Liste, die nach den beiden Zuweisungen in etwa so aussieht:\n",
    "   \n",
    "|Name|Objekt|\n",
    "|:--------:|:--------:|\n",
    "|a|1|\n",
    "|b|2|\n",
    "|...|...|\n",
    "    \n",
    "Immer wenn ein Name im Code verwendet wird, schaut Python in seiner Liste nach und holt den zugehörigen Wert:\n",
    "\n"
   ]
  }
 ],
 "metadata": {
  "kernelspec": {
   "display_name": ".venv",
   "language": "python",
   "name": "python3"
  },
  "language_info": {
   "codemirror_mode": {
    "name": "ipython",
    "version": 3
   },
   "file_extension": ".py",
   "mimetype": "text/x-python",
   "name": "python",
   "nbconvert_exporter": "python",
   "pygments_lexer": "ipython3",
   "version": "3.13.3"
  }
 },
 "nbformat": 4,
 "nbformat_minor": 5
}
