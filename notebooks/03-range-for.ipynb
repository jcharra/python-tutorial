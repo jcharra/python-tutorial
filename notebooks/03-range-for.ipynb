{
 "cells": [
  {
   "cell_type": "markdown",
   "id": "355feb3e",
   "metadata": {},
   "source": [
    "# Python-Tutorial Teil 3\n",
    "\n",
    "In diesem Teil geht es weiter mit der `for`-Schleife, die etwas anders funktioniert als die `while`-Schleife aus dem letzten Kapitel.\n",
    "\n",
    "Damit wir etwas \"Substanz\" haben, um solche Schleifen anzuwenden, beschäftigen wir uns zunächst mit einer neuen Funktion, mit der man beliebig große Zahlenreihen erzeugen kann.\n",
    "\n",
    "## Abschnitt 1: Die Funktion `range`\n",
    "\n",
    "Mit `range` kann man sich von Python eine Folge von `int`s erzeugen lassen. Zum Beispiel so:"
   ]
  },
  {
   "cell_type": "code",
   "execution_count": 1,
   "id": "4b9dee7b",
   "metadata": {},
   "outputs": [
    {
     "name": "stdout",
     "output_type": "stream",
     "text": [
      "range(0, 10)\n"
     ]
    }
   ],
   "source": [
    "print(range(10))"
   ]
  },
  {
   "cell_type": "markdown",
   "id": "eb9170e2",
   "metadata": {},
   "source": [
    "Hm, nicht sehr aussagekräftig. Man könnte denken, das sei jetzt eine **Liste** mit Zahlen, das ist aber **nicht** so!\n",
    "\n",
    "Was wir jetzt erzeugt haben ist eine Art \"Zahlen-Generator\", der uns auf Nachfrage die Zahlen von 0 bis ... Achtung ... **9** ausgibt.\n",
    "\n",
    "Wie kann man das verifizieren? Dazu greifen wir ein bisschen vor und verwenden die `list`-Funktion, die ein Objekt in eine Liste kovertiert:"
   ]
  },
  {
   "cell_type": "code",
   "execution_count": 3,
   "id": "8adbd3d3",
   "metadata": {},
   "outputs": [
    {
     "data": {
      "text/plain": [
       "[0, 1, 2, 3, 4, 5, 6, 7, 8, 9]"
      ]
     },
     "execution_count": 3,
     "metadata": {},
     "output_type": "execute_result"
    }
   ],
   "source": [
    "list(range(10))"
   ]
  },
  {
   "cell_type": "markdown",
   "id": "3712a2ab",
   "metadata": {},
   "source": [
    "Jetzt haben wir unsere Zahlen gut lesbar als Liste. Listen haben in Python **eckige Klammern** `[ ... ]`, aber dazu in einem späteren Kapitel mehr.\n",
    "\n",
    "Zurück zur Funktion `range`. Am besten versteht man sie, wenn man sich ein paar Beispiele anschaut:"
   ]
  },
  {
   "cell_type": "code",
   "execution_count": 4,
   "id": "9acf2188",
   "metadata": {},
   "outputs": [
    {
     "data": {
      "text/plain": [
       "[5, 6, 7, 8, 9, 10, 11, 12, 13, 14, 15, 16, 17, 18, 19]"
      ]
     },
     "execution_count": 4,
     "metadata": {},
     "output_type": "execute_result"
    }
   ],
   "source": [
    "list(range(5, 20))"
   ]
  },
  {
   "cell_type": "markdown",
   "id": "07e68a41",
   "metadata": {},
   "source": [
    "Kannst Du erkennen, warum aus der Eingabe `5, 20` diese Zahlen generiert wurden?\n",
    "\n",
    "Das erste Argument gibt hier die **Startzahl** an. Diese ist in der Liste mit **enthalten**. Das zweite Argument ist die **Endzahl**, also die obere Grenze. Diese ist **nicht enthalten**."
   ]
  },
  {
   "cell_type": "markdown",
   "id": "09a2845a",
   "metadata": {},
   "source": [
    "#### Die Anzahl der Argumente ist entscheidend\n",
    "\n",
    "Jetzt denkst Du vielleicht \"Hä? Aber weiter oben haben wir `range(10)` aufgerufen und da war die erste Zahl die obere Grenze! 🤷🏻‍♀️\".\n",
    "\n",
    "Das ist richtig. Man kann `range` nämlich auf insgesamt sogar drei verschiedene Arten aufrufen, die je nach Argumentzahl unterschiedliche Wirkung haben:"
   ]
  },
  {
   "cell_type": "code",
   "execution_count": 5,
   "id": "4486e926",
   "metadata": {},
   "outputs": [
    {
     "name": "stdout",
     "output_type": "stream",
     "text": [
      "[0, 1, 2, 3, 4]\n",
      "[20, 21, 22, 23, 24, 25, 26, 27, 28, 29]\n",
      "[100, 150, 200, 250, 300, 350, 400, 450, 500, 550, 600, 650, 700, 750, 800, 850, 900, 950]\n"
     ]
    }
   ],
   "source": [
    "# Ein Argument => wird als Obergrenze interpretiert\n",
    "print(list(range(5)))\n",
    "\n",
    "# Zwei Argumente => wird als Unter- und Obergrenze interpretiert\n",
    "print(list(range(20, 30)))\n",
    "\n",
    "# Drei Argumente => wird als Unter- und Obergrenze und Schrittweite interpretiert\n",
    "print(list(range(100, 1000, 50)))"
   ]
  },
  {
   "cell_type": "markdown",
   "id": "5c5ea921",
   "metadata": {},
   "source": [
    "#### Rückwärts laufen\n",
    "\n",
    "Jetzt wo wir die Schrittweite setzen können, ist es auch möglich, absteigende Zahlenfolgen zu erzeugen:"
   ]
  },
  {
   "cell_type": "code",
   "execution_count": 7,
   "id": "53f2f7ca",
   "metadata": {},
   "outputs": [
    {
     "name": "stdout",
     "output_type": "stream",
     "text": [
      "[30, 29, 28, 27, 26, 25, 24, 23, 22, 21, 20, 19, 18, 17, 16, 15, 14, 13, 12, 11, 10, 9, 8, 7, 6, 5, 4, 3, 2, 1]\n"
     ]
    }
   ],
   "source": [
    "print(list(range(30, 0, -1)))"
   ]
  },
  {
   "cell_type": "markdown",
   "id": "a400735f",
   "metadata": {},
   "source": [
    "Beachte: Auch hier ist die letzte Zahl (in diesem Fall also die **Untergrenze**) nicht mit enthalten."
   ]
  },
  {
   "cell_type": "markdown",
   "id": "aed1d4ba",
   "metadata": {},
   "source": [
    "<div class=\"alert alert-block alert-info\">\n",
    "    \n",
    "### Zusammenfassung Abschnitt 1\n",
    "\n",
    "Was Du gelernt hast ...\n",
    "    \n",
    "- wie man `range` verwendet um Zahlenfolgen zu generieren.\n",
    "- wie man dabei untere und obere Grenzen angibt\n",
    "- wie man die Schrittweite definiert\n",
    "- wie man dabei rückwärts läuft\n",
    "\n",
    "</div>"
   ]
  },
  {
   "cell_type": "markdown",
   "id": "94c5a4dc",
   "metadata": {},
   "source": []
  }
 ],
 "metadata": {
  "kernelspec": {
   "display_name": ".venv",
   "language": "python",
   "name": "python3"
  },
  "language_info": {
   "codemirror_mode": {
    "name": "ipython",
    "version": 3
   },
   "file_extension": ".py",
   "mimetype": "text/x-python",
   "name": "python",
   "nbconvert_exporter": "python",
   "pygments_lexer": "ipython3",
   "version": "3.13.3"
  }
 },
 "nbformat": 4,
 "nbformat_minor": 5
}
