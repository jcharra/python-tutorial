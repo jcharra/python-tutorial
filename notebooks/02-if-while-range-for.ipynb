{
 "cells": [
  {
   "cell_type": "markdown",
   "id": "355feb3e",
   "metadata": {},
   "source": [
    "# Python-Tutorial Teil 2\n",
    "\n",
    "In diesem Teil betrachten wir zunächst ein paar neue Operatoren.\n",
    "\n",
    "Dann beschäftigen wir uns damit, wie Code auf Bedingungen (also boole'sche Werte) reagieren kann. \n",
    "\n",
    "Zuletzt geht es darum, mit Hilfe von **Schleifen** Wiederholungen von Codeblöcken durchzuführen.\n",
    "In Python gibt es zwei Formen einer Schleife: Die **while**-Schleife und die **for**-Schleife.\n",
    "\n",
    "## Prolog: Neue Operatoren\n",
    "\n",
    "Bisher haben wir nur die grundlegenden arithmetischen Operatoren verwendet. Hier einige weitere:"
   ]
  },
  {
   "cell_type": "code",
   "execution_count": null,
   "id": "e0c1499c",
   "metadata": {},
   "outputs": [],
   "source": [
    "# integer-Division. Hierbei wird nur der ganzzahlige Anteil berechnet. Das Ergebnis ist also immer ein int.\n",
    "print(f\"50 // 7 = {50 // 7}\")\n",
    "\n",
    "# Potenzierung (a hoch b)\n",
    "print(f\"{2} ** {8} = {2 ** 8}\")\n",
    "\n",
    "# \"Modulo\"-Operator: Hier wird nur der Rest der Division berechnet\n",
    "print(\"\\nBeispiele Modulo:\")\n",
    "print(f\"{50} % {7} = {50 % 7}\")\n",
    "print(f\"{1000} % {5} = {1000 % 5}\")\n",
    "print(f\"{69} % {7} = {69 % 7}\")\n",
    "\n"
   ]
  },
  {
   "cell_type": "markdown",
   "id": "dc0466c6",
   "metadata": {},
   "source": [
    "#### Teilbarkeit\n",
    "\n",
    "Da der Modulo-Operator den Rest einer Division liefert, kann man damit prüfen, ob eine Zahl `a` durch eine andere Zahl `b` teilbar ist:\n",
    "Ist nämlich `a % b == 0`, so ist die Teilbarkeit gegeben, weil der Rest der Division 0 ist."
   ]
  },
  {
   "cell_type": "code",
   "execution_count": null,
   "id": "866f58e7",
   "metadata": {},
   "outputs": [],
   "source": [
    "print(\"Ist 20 durch 5 teilbar? \", 20 % 5 == 0)\n",
    "print(\"Ist 111 durch 3 teilbar? \", 111 % 3 == 0)\n",
    "print(\"Ist 7777 durch 5 teilbar? \", 7777 % 5 == 0)"
   ]
  },
  {
   "cell_type": "markdown",
   "id": "4109f562",
   "metadata": {},
   "source": [
    "## Abschnitt 1: Verzweigungen mit if / elif / else\n",
    "\n",
    "In Teil 1 haben wir den Datentyp `bool` kennengelernt. \n",
    "\n",
    "Beim Programmieren will man sehr oft, dass bestimmter Code nur ausgeführt wird, wenn gewisse Bedingungen erfüllt sind. \n",
    "\n",
    "Dafür verwendet man das keyword `if` in Kombination mit einem boole'schen Ausdruck, der entscheidet, wie es weitergeht, je nachdem ob er `True` oder `False` ergibt.\n",
    "\n",
    "Welche Ausgabe erwartest Du von der folgenden Zelle?"
   ]
  },
  {
   "cell_type": "code",
   "execution_count": null,
   "id": "535e8d16",
   "metadata": {},
   "outputs": [],
   "source": [
    "if 10 > 5:\n",
    "  print(\"Ja, 10 ist größer als 5\")\n",
    "  \n",
    "a = 100\n",
    "if a < 10:\n",
    "  print(\"Ja, a ist kleiner als 10\")"
   ]
  },
  {
   "cell_type": "markdown",
   "id": "8fd91091",
   "metadata": {},
   "source": [
    "Beachte bitte die **Einrückung** des Codes. Die Zeile unterhalb von `if` steht **weiter rechts** als die `if`-Zeile selbst. \n",
    "\n",
    "Das ist so gewollt und sogar **zwingend notwendig**: Python erkennt an der Einrückung die **Zusammengehörigkeit eines Codeblocks**. Ohne die Einrückung wäre es unmöglich zu erkennen, wo der Code endet, der nur bei Erfüllung der Bedingung ausgeführt werden soll.\n",
    "\n",
    "Diese Form der Einrückung (engl. *indentation*) wird uns noch sehr oft begegnen.\n",
    "\n",
    "#### if / else\n",
    "\n",
    "Oft gibt es auch Entweder/Oder-Situationen. Hier verwendet man `if` in Kombination mit `else`. Beachte auch hier die Einrückung:"
   ]
  },
  {
   "cell_type": "code",
   "execution_count": 10,
   "id": "1f20d901",
   "metadata": {},
   "outputs": [
    {
     "name": "stdout",
     "output_type": "stream",
     "text": [
      "a ist kleiner\n"
     ]
    }
   ],
   "source": [
    "a = 10\n",
    "if a > 15:\n",
    "  # Diese Zeile wird nicht ausgeführt\n",
    "  print(\"a ist größer\")\n",
    "else:\n",
    "  # Diese Zeile wird ausgeführt, aber nur weil die if-Bedingung False ergeben hat!\n",
    "  print(\"a ist kleiner\")"
   ]
  },
  {
   "cell_type": "markdown",
   "id": "661186c0",
   "metadata": {},
   "source": [
    "#### Mehrere Bedingungen prüfen\n",
    "\n",
    "Zuletzt gibt es noch die Situation, dass man mehrere Fälle prüfen möchte, die sich typischerweise gegenseitig ausschließen. Hier verwendet man zusätzlich zu `if` und `else` noch `elif`, was ein Kurzwort für \"else if\" ist.\n",
    "\n",
    "Das `elif` muss zwingend **zwischen** dem `if` und dem `else` kommen und kann beliebig oft auftauchen. Das `else` ist optional und kann - ebenso wie das `if` - nur einmal auftauchen."
   ]
  },
  {
   "cell_type": "code",
   "execution_count": null,
   "id": "479c34c8",
   "metadata": {},
   "outputs": [],
   "source": [
    "name = \"Jeanne\"\n",
    "if name == \"Peter\":\n",
    "  print(\"Hallo\")\n",
    "elif name == \"Jeanne\":\n",
    "  print(\"Bonjour\")\n",
    "elif name == \"Eike\":\n",
    "  print(\"Moin\")\n",
    "elif name == \"Luigi\":\n",
    "  print(\"Ciao\")\n",
    "else:\n",
    "  print(\"Hi\")"
   ]
  },
  {
   "cell_type": "markdown",
   "id": "65f663f6",
   "metadata": {},
   "source": [
    "<div class=\"alert alert-block alert-info\">\n",
    "    \n",
    "### Zusammenfassung Abschnitt 1\n",
    "\n",
    "Was Du gelernt hast ...\n",
    "    \n",
    "- wie man Code mit `if` nur unter bestimmten Bedingungen ausführt \n",
    "- wie man alternative Bedingungen prüfen kann mit `elif` und `else`\n",
    "\n",
    "</div>"
   ]
  },
  {
   "cell_type": "markdown",
   "id": "736f0e21",
   "metadata": {},
   "source": [
    "## Abschnitt 2: while-Schleifen\n",
    "\n",
    "Hier ist ein einfaches Beispiel einer `while`-Schleife, bei der auch wieder eine boole'sche Bedingung eine wichtige Rolle spielt:"
   ]
  },
  {
   "cell_type": "code",
   "execution_count": null,
   "id": "024b14ca",
   "metadata": {},
   "outputs": [],
   "source": [
    "a = 10\n",
    "while a > 0:\n",
    "    print(\"a ist\", a)\n",
    "    a -= 1\n",
    "print(\"Das war's\")"
   ]
  },
  {
   "cell_type": "markdown",
   "id": "162e24e0",
   "metadata": {},
   "source": [
    "Gehen wir den Code Zeile für Zeile durch:\n",
    "\n",
    "- Zeile 1 speichert den integer-Wert `10` unter dem Namen `a`\n",
    "- Zeile 2 sagt: Da der Wert von `a` größer als `0` ist, hat der Ausdruck `a > 0` den boole'schen Wert `True`. Also wird der Inhalt der Schleife ausgeführt. \n",
    "- Zeile 3 gibt den Wert von `a` aus\n",
    "- Zeile 4 *verringert* den Wert von `a` um 1 (erinnere Dich: `a -= 1` ist das gleiche wie `a = a - 1`)\n",
    "- Da Zeile 5 **wieder nach links eingerückt** ist, merkt Python, dass es jetzt wieder nach oben in Zeile 2 springen muss, denn man befindet sich ja in einer `while`-Schleife.\n",
    "- Wieder in Zeile 2 angekommen, prüft Python also erneut ob `a > 0` zu dem boole'schen Wert `True` ausgewertet wird. `a` ist inzwischen `9`, also immer noch größer als `0`.\n",
    "  Die Schleife wird daher erneut ausgeführt\n",
    "- ...\n",
    "- Nach 10 Durchläufen der Schleife ist der Wert von `a` auf `0` herabgesetzt worden. In Zeile 2 wird nun also geprüft ob `0 > 0`. Das ergibt `False`, die Schleife wird somit kein weiteres mal ausgeführt.\n",
    "- Zeile 5 wird nun ausgeführt.\n",
    "\n",
    "Nimm Dir ein wenig Zeit, um die Schleife in Gedanken durchzugehen. 🧠⚡️ Bewege Dich dabei Zeile für Zeile und überlege, was dort jeweils geschieht.\n",
    "\n",
    "#### Endlosschleifen\n",
    "\n",
    "Bei `while`-Schleifen muss man immer aufpassen, dass sie auch zu einem Ende kommen. Andernfalls hat man eine **Endlosschleife** erzeugt.\n",
    "\n",
    "Was wäre das Problem, wenn man den obigen \"Countdown\" zum Beispiel so programmiert hätte? Überlege erst, bevor Du die Zelle ausführst.\n",
    "\n",
    "(... und wenn Du die Zelle ausführst, such vorher den Knopf zum Abbrechen der Ausführung!)"
   ]
  },
  {
   "cell_type": "code",
   "execution_count": null,
   "id": "b676b3f3",
   "metadata": {},
   "outputs": [],
   "source": [
    "a = 10\n",
    "while a > 0:\n",
    "  print(\"a ist\", a)\n",
    "  a += 1\n",
    "print(\"Geschafft!\")"
   ]
  },
  {
   "cell_type": "markdown",
   "id": "2e25932f",
   "metadata": {},
   "source": [
    "In diesem Fall läuft der Wert von `a` in die \"falsche Richtung\", d.h. die Bedingung `a > 0` wird immer `True` sein und folglich endet die Schleife niemals.\n",
    "\n",
    "#### Warte, bis ich \"Stopp\" sage!\n",
    "\n",
    "In manchen Fällen kann eine Endlosschleife aber sogar bewusst gebaut werden, mit der Absicht, sie Schleife abzubrechen, sobald eine bestimmte Bedingung erfüllt ist.\n",
    "In folgendem Code wird eine Frage so lange wiederholt, bis die Antwort korrekt ist."
   ]
  },
  {
   "cell_type": "code",
   "execution_count": 9,
   "id": "00b1e037",
   "metadata": {},
   "outputs": [
    {
     "name": "stdout",
     "output_type": "stream",
     "text": [
      "Korrekt\n"
     ]
    }
   ],
   "source": [
    "while True:\n",
    "  if input(\"Was ist die Hauptstadt von Frankreich?\") == \"Paris\":\n",
    "    print(\"Korrekt\")\n",
    "    break"
   ]
  },
  {
   "cell_type": "markdown",
   "id": "aed1d4ba",
   "metadata": {},
   "source": [
    "<div class=\"alert alert-block alert-info\">\n",
    "    \n",
    "### Zusammenfassung Abschnitt 2\n",
    "\n",
    "Was Du gelernt hast ...\n",
    "    \n",
    "- wie man Code mit `while` ausführt, so lange eine Bedingung erfüllt ist\n",
    "- wie man eine Schleife mit `break` abbricht\n",
    "- dass Endlosschleifen gefährlich sind\n",
    "\n",
    "</div>"
   ]
  },
  {
   "cell_type": "markdown",
   "id": "acc060dd",
   "metadata": {},
   "source": [
    "## Abschnitt 3: Die Funktion `range`\n",
    "\n",
    "TODO"
   ]
  }
 ],
 "metadata": {
  "kernelspec": {
   "display_name": ".venv",
   "language": "python",
   "name": "python3"
  },
  "language_info": {
   "codemirror_mode": {
    "name": "ipython",
    "version": 3
   },
   "file_extension": ".py",
   "mimetype": "text/x-python",
   "name": "python",
   "nbconvert_exporter": "python",
   "pygments_lexer": "ipython3",
   "version": "3.13.3"
  }
 },
 "nbformat": 4,
 "nbformat_minor": 5
}
